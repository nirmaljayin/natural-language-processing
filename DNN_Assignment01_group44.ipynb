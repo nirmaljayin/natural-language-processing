{
  "cells": [
    {
      "cell_type": "markdown",
      "id": "9bda93ba",
      "metadata": {
        "id": "9bda93ba"
      },
      "source": [
        "## Group No 44\n",
        "\n",
        "## Group Member Names:\n",
        "\n",
        "1. BEDANTA BIKASH DUTTA (2024AA05186)\n",
        "2. LELLA NIKHILESWAR (2024AA05976)\n",
        "3. NIRMAL J (2024AA05189)\n",
        "4. PRANAV DUBEY (2024AA05660)\n"
      ]
    },
    {
      "cell_type": "markdown",
      "id": "bec56339",
      "metadata": {
        "id": "bec56339"
      },
      "source": [
        "# 1. Import the required libraries\n"
      ]
    },
    {
      "cell_type": "code",
      "execution_count": 112,
      "id": "9P4kF9gtDON3",
      "metadata": {
        "id": "9P4kF9gtDON3"
      },
      "outputs": [],
      "source": [
        "# hub layer raises an error due to backward compatibility: https://github.com/tensorflow/tensorflow/issues/63085#issuecomment-2303851416\n",
        "# The tensorflow and keras library versions were downgraded because of this.\n",
        "# The second option is to use Lambda layer wrapper around hub layer but\n",
        "# that stops showing params and output shape in summary\n",
        "# %pip install -q tensorflow==2.15.0 keras==2.15.0 tensorflow-hub  pandas numpy matplotlib seaborn scikit-learn jinja2 tensorflow-datasets"
      ]
    },
    {
      "cell_type": "code",
      "execution_count": null,
      "id": "46631608",
      "metadata": {
        "id": "46631608"
      },
      "outputs": [],
      "source": [
        "##---------Type the code below this line------------------##\n",
        "\n",
        "\n",
        "import warnings\n",
        "\n",
        "import matplotlib.pyplot as plt\n",
        "import pandas as pd\n",
        "import seaborn as sns\n",
        "import tensorflow as tf\n",
        "\n",
        "# Importing keras as tf_keras. In worst case we can install tf-keras package to use v2 APIs\n",
        "import tensorflow.keras as tf_keras\n",
        "import tensorflow_datasets as tfds\n",
        "import tensorflow_hub as tf_hub\n",
        "from sklearn.metrics import accuracy_score, confusion_matrix, f1_score, precision_score, recall_score\n",
        "from sklearn.model_selection import train_test_split\n",
        "\n",
        "warnings.filterwarnings(\"ignore\")\n"
      ]
    },
    {
      "cell_type": "markdown",
      "id": "3cc8e0cb",
      "metadata": {
        "id": "3cc8e0cb"
      },
      "source": [
        "# 2. Data Acquisition -- Score: 0.5 Mark\n",
        "\n",
        "For the problem identified by you, students have to find the data source themselves from any data source.\n",
        "\n",
        "## 2.1 Code for converting the above downloaded data into a form suitable for DL\n"
      ]
    },
    {
      "cell_type": "code",
      "execution_count": null,
      "id": "Q7huXY0FPFOI",
      "metadata": {
        "id": "Q7huXY0FPFOI"
      },
      "outputs": [],
      "source": [
        "##---------Type the code below this line------------------##\n",
        "\n",
        "# IMDB Reviews dataset is selected for this assignment.\n",
        "train_ds, test_ds = tfds.load(\n",
        "    # Name of the dataset to load\n",
        "    name=\"imdb_reviews\",\n",
        "    # By default there are 3 splits available train, test and unsupervised\n",
        "    # We don't need the unsupervised set. For that purpose use split parameter\n",
        "    split=[\"train\", \"test\"],\n",
        ")\n",
        "\n",
        "# Convert the dataset to pandas DataFrame\n",
        "\n",
        "train_df = tfds.as_dataframe(train_ds)\n",
        "test_df = tfds.as_dataframe(test_ds)\n",
        "\n",
        "imdb_reviews_df = pd.concat([train_df, test_df], ignore_index=True)"
      ]
    },
    {
      "cell_type": "code",
      "execution_count": 115,
      "id": "prcNDJyOOUx5",
      "metadata": {
        "colab": {
          "base_uri": "https://localhost:8080/"
        },
        "id": "prcNDJyOOUx5",
        "outputId": "4b23ac55-8502-4404-b2e9-3a4d69b13b45"
      },
      "outputs": [
        {
          "name": "stdout",
          "output_type": "stream",
          "text": [
            "<class 'pandas.core.frame.DataFrame'>\n",
            "RangeIndex: 50000 entries, 0 to 49999\n",
            "Data columns (total 2 columns):\n",
            " #   Column  Non-Null Count  Dtype \n",
            "---  ------  --------------  ----- \n",
            " 0   label   50000 non-null  int64 \n",
            " 1   text    50000 non-null  object\n",
            "dtypes: int64(1), object(1)\n",
            "memory usage: 781.4+ KB\n"
          ]
        }
      ],
      "source": [
        "imdb_reviews_df.info()"
      ]
    },
    {
      "cell_type": "code",
      "execution_count": 116,
      "id": "4b51d895",
      "metadata": {
        "colab": {
          "base_uri": "https://localhost:8080/",
          "height": 206
        },
        "id": "4b51d895",
        "outputId": "91bb2eea-dbe9-4046-b593-dbc07a3a8323"
      },
      "outputs": [
        {
          "data": {
            "application/vnd.microsoft.datawrangler.viewer.v0+json": {
              "columns": [
                {
                  "name": "index",
                  "rawType": "int64",
                  "type": "integer"
                },
                {
                  "name": "label",
                  "rawType": "int64",
                  "type": "integer"
                },
                {
                  "name": "text",
                  "rawType": "object",
                  "type": "unknown"
                }
              ],
              "ref": "4845b62f-e7f6-470c-b27a-c26e61fd493b",
              "rows": [
                [
                  "0",
                  "0",
                  "b\"This was an absolutely terrible movie. Don't be lured in by Christopher Walken or Michael Ironside. Both are great actors, but this must simply be their worst role in history. Even their great acting could not redeem this movie's ridiculous storyline. This movie is an early nineties US propaganda piece. The most pathetic scenes were those when the Columbian rebels were making their cases for revolutions. Maria Conchita Alonso appeared phony, and her pseudo-love affair with Walken was nothing but a pathetic emotional plug in a movie that was devoid of any real meaning. I am disappointed that there are movies like this, ruining actor's like Christopher Walken's good name. I could barely sit through it.\""
                ],
                [
                  "1",
                  "0",
                  "b'I have been known to fall asleep during films, but this is usually due to a combination of things including, really tired, being warm and comfortable on the sette and having just eaten a lot. However on this occasion I fell asleep because the film was rubbish. The plot development was constant. Constantly slow and boring. Things seemed to happen, but with no explanation of what was causing them or why. I admit, I may have missed part of the film, but i watched the majority of it and everything just seemed to happen of its own accord without any real concern for anything else. I cant recommend this film at all.'"
                ],
                [
                  "2",
                  "0",
                  "b'Mann photographs the Alberta Rocky Mountains in a superb fashion, and Jimmy Stewart and Walter Brennan give enjoyable performances as they always seem to do. <br /><br />But come on Hollywood - a Mountie telling the people of Dawson City, Yukon to elect themselves a marshal (yes a marshal!) and to enforce the law themselves, then gunfighters battling it out on the streets for control of the town? <br /><br />Nothing even remotely resembling that happened on the Canadian side of the border during the Klondike gold rush. Mr. Mann and company appear to have mistaken Dawson City for Deadwood, the Canadian North for the American Wild West.<br /><br />Canadian viewers be prepared for a Reefer Madness type of enjoyable howl with this ludicrous plot, or, to shake your head in disgust.'"
                ],
                [
                  "3",
                  "1",
                  "b'This is the kind of film for a snowy Sunday afternoon when the rest of the world can go ahead with its own business as you descend into a big arm-chair and mellow for a couple of hours. Wonderful performances from Cher and Nicolas Cage (as always) gently row the plot along. There are no rapids to cross, no dangerous waters, just a warm and witty paddle through New York life at its best. A family film in every sense and one that deserves the praise it received.'"
                ],
                [
                  "4",
                  "1",
                  "b'As others have mentioned, all the women that go nude in this film are mostly absolutely gorgeous. The plot very ably shows the hypocrisy of the female libido. When men are around they want to be pursued, but when no \"men\" are around, they become the pursuers of a 14 year old boy. And the boy becomes a man really fast (we should all be so lucky at this age!). He then gets up the courage to pursue his true love.'"
                ]
              ],
              "shape": {
                "columns": 2,
                "rows": 5
              }
            },
            "text/html": [
              "<div>\n",
              "<style scoped>\n",
              "    .dataframe tbody tr th:only-of-type {\n",
              "        vertical-align: middle;\n",
              "    }\n",
              "\n",
              "    .dataframe tbody tr th {\n",
              "        vertical-align: top;\n",
              "    }\n",
              "\n",
              "    .dataframe thead th {\n",
              "        text-align: right;\n",
              "    }\n",
              "</style>\n",
              "<table border=\"1\" class=\"dataframe\">\n",
              "  <thead>\n",
              "    <tr style=\"text-align: right;\">\n",
              "      <th></th>\n",
              "      <th>label</th>\n",
              "      <th>text</th>\n",
              "    </tr>\n",
              "  </thead>\n",
              "  <tbody>\n",
              "    <tr>\n",
              "      <th>0</th>\n",
              "      <td>0</td>\n",
              "      <td>b\"This was an absolutely terrible movie. Don't...</td>\n",
              "    </tr>\n",
              "    <tr>\n",
              "      <th>1</th>\n",
              "      <td>0</td>\n",
              "      <td>b'I have been known to fall asleep during film...</td>\n",
              "    </tr>\n",
              "    <tr>\n",
              "      <th>2</th>\n",
              "      <td>0</td>\n",
              "      <td>b'Mann photographs the Alberta Rocky Mountains...</td>\n",
              "    </tr>\n",
              "    <tr>\n",
              "      <th>3</th>\n",
              "      <td>1</td>\n",
              "      <td>b'This is the kind of film for a snowy Sunday ...</td>\n",
              "    </tr>\n",
              "    <tr>\n",
              "      <th>4</th>\n",
              "      <td>1</td>\n",
              "      <td>b'As others have mentioned, all the women that...</td>\n",
              "    </tr>\n",
              "  </tbody>\n",
              "</table>\n",
              "</div>"
            ],
            "text/plain": [
              "   label                                               text\n",
              "0      0  b\"This was an absolutely terrible movie. Don't...\n",
              "1      0  b'I have been known to fall asleep during film...\n",
              "2      0  b'Mann photographs the Alberta Rocky Mountains...\n",
              "3      1  b'This is the kind of film for a snowy Sunday ...\n",
              "4      1  b'As others have mentioned, all the women that..."
            ]
          },
          "execution_count": 116,
          "metadata": {},
          "output_type": "execute_result"
        }
      ],
      "source": [
        "imdb_reviews_df.head(5)"
      ]
    },
    {
      "cell_type": "markdown",
      "id": "812edb18",
      "metadata": {
        "id": "812edb18"
      },
      "source": [
        "## 2.1 Write your observations from the above.\n",
        "\n",
        "1. Size of the dataset\n",
        "2. What type of data attributes are there?\n",
        "3. What are you classifying?\n",
        "4. Plot the distribution of the categories of the target / label.\n"
      ]
    },
    {
      "cell_type": "markdown",
      "id": "FWSI2csha6OH",
      "metadata": {
        "id": "FWSI2csha6OH"
      },
      "source": [
        "--------------Type the answers below this line--------------\n",
        "\n",
        "1. Size of the dataset\n",
        "\n",
        "   50,000\n",
        "\n",
        "2. What type of data attributes are there?\n",
        "\n",
        "   - text: movie review (string)\n",
        "   - label: sentiment of the review (1/0)\n",
        "\n",
        "3. What are you classifying?\n",
        "\n",
        "   Binary classification of the sentiment of a movie review. 1 if positive 0 if negative\n",
        "\n",
        "4. Plot the distribution of the categories of the target / label.\n"
      ]
    },
    {
      "cell_type": "code",
      "execution_count": 117,
      "id": "Orj5OL3tBj1G",
      "metadata": {
        "colab": {
          "base_uri": "https://localhost:8080/",
          "height": 551
        },
        "id": "Orj5OL3tBj1G",
        "outputId": "6a1ea783-d115-4628-ba4a-0b95704974a9"
      },
      "outputs": [
        {
          "data": {
            "text/plain": [
              "<Figure size 750x750 with 0 Axes>"
            ]
          },
          "metadata": {},
          "output_type": "display_data"
        },
        {
          "data": {
            "image/png": "[encoded data removed]",
            "text/plain": [
              "<Figure size 761.111x500 with 1 Axes>"
            ]
          },
          "metadata": {},
          "output_type": "display_data"
        }
      ],
      "source": [
        "plt.figure(figsize=(5, 5), dpi=150)\n",
        "sns.catplot(data=imdb_reviews_df, x=\"label\", kind=\"count\", height=5, aspect=1.5)\n",
        "plt.title(\"Distribution of Sentiment Labels in IMDB Reviews\", pad=10)\n",
        "plt.show()"
      ]
    },
    {
      "cell_type": "markdown",
      "id": "102e0e36",
      "metadata": {
        "id": "102e0e36"
      },
      "source": [
        "# 3. Data Preparation -- Score: 1 Mark\n",
        "\n",
        "Perform the data prepracessing that is required for the data that you have downloaded.\n",
        "\n",
        "This stage depends on the dataset that is used.\n"
      ]
    },
    {
      "cell_type": "markdown",
      "id": "06fdebf8",
      "metadata": {
        "id": "06fdebf8"
      },
      "source": [
        "## 3.1 Apply pre-processing techiniques\n",
        "\n",
        "- to remove duplicate data\n",
        "- to impute or remove missing data\n",
        "- to remove data inconsistencies\n",
        "- Encode categorical data\n",
        "- Normalize the data\n",
        "- Feature Engineering\n",
        "- Stop word removal, lemmatiation, stemming, vectorization\n",
        "\n",
        "IF ANY\n"
      ]
    },
    {
      "cell_type": "code",
      "execution_count": 118,
      "id": "dd3118eb",
      "metadata": {
        "colab": {
          "base_uri": "https://localhost:8080/"
        },
        "id": "dd3118eb",
        "outputId": "702ae01d-dd2c-45a5-88f4-81536ce5ded9"
      },
      "outputs": [
        {
          "data": {
            "text/plain": [
              "(49582, 2)"
            ]
          },
          "execution_count": 118,
          "metadata": {},
          "output_type": "execute_result"
        }
      ],
      "source": [
        "##---------Type the code below this line------------------##\n",
        "\n",
        "# Remove duplicates\n",
        "imdb_reviews_df = imdb_reviews_df.drop_duplicates()\n",
        "# Remove NaN values\n",
        "imdb_reviews_df = imdb_reviews_df.dropna()\n",
        "# Reset index after dropping rows\n",
        "imdb_reviews_df = imdb_reviews_df.reset_index(drop=True)\n",
        "# The label is already in binary format, so we don't need to convert it\n",
        "# To convert the text into embeddings we will use a pre trained embedding model\n",
        "# from tensorflow_hub\n",
        "# model_url \"https://tfhub.dev/google/nnlm-en-dim128-with-normalization/2\"\n",
        "# Check the shape of the DataFrame\n",
        "imdb_reviews_df.shape"
      ]
    },
    {
      "cell_type": "code",
      "execution_count": 119,
      "id": "_mE_z0bJB0pM",
      "metadata": {
        "colab": {
          "base_uri": "https://localhost:8080/"
        },
        "id": "_mE_z0bJB0pM",
        "outputId": "8e919a08-2c46-4eaa-cd43-13cdb4de7f2d"
      },
      "outputs": [
        {
          "data": {
            "text/plain": [
              "<tf.Tensor: shape=(1, 128), dtype=float32, numpy=\n",
              "array([[ 1.1501508 ,  0.078013  ,  0.09266154,  0.28336146,  0.00967164,\n",
              "        -0.14918603,  0.3356657 , -0.3502448 , -0.00828831, -0.0187714 ,\n",
              "        -0.03330697, -0.6330942 , -0.37542117, -0.27773282, -0.09661756,\n",
              "         0.17255366, -0.13367656,  0.03807658, -0.27513817,  0.4947623 ,\n",
              "         0.03930517,  0.13449624, -0.2707282 ,  0.01789428, -0.2410716 ,\n",
              "         0.02710899,  0.10233343, -0.10662853,  0.05242986,  0.11917052,\n",
              "        -0.00667078,  0.3392315 ,  0.11301497,  0.10684261,  0.39157125,\n",
              "        -0.18953632, -0.17400031, -0.10644417, -0.13420047,  0.17358392,\n",
              "        -0.27769503, -0.04335914, -0.03915006, -0.19834091,  0.02748548,\n",
              "         0.276703  ,  0.14070286, -0.3142561 ,  0.02475694, -0.16730827,\n",
              "         0.08217403, -0.09568419, -0.25733578,  0.3729147 , -0.22105993,\n",
              "        -0.21443687, -0.05832561,  0.15003687, -0.16772385, -0.080281  ,\n",
              "        -0.21137346, -0.0039831 ,  0.06347676,  0.06651689,  0.09252462,\n",
              "         0.11327882, -0.10095894, -0.22017631,  0.3498752 ,  0.0498271 ,\n",
              "        -0.15927915,  0.28220004,  0.04369194,  0.01837304, -0.00730237,\n",
              "         0.12252104, -0.05634077, -0.20771542, -0.23770685,  0.18973817,\n",
              "         0.1004604 , -0.20720549, -0.27095738,  0.03192319, -0.05624662,\n",
              "         0.03815874, -0.1476941 ,  0.141778  ,  0.9031463 ,  0.8365368 ,\n",
              "        -0.23157445,  0.28327516,  0.10939729, -0.24535999,  0.08628143,\n",
              "         0.22000547,  0.13230659,  0.01035273,  0.10613582, -0.00505983,\n",
              "        -0.04266078, -0.01622501,  0.3303628 ,  0.23382655,  0.09507088,\n",
              "        -0.35053444, -0.12018085,  0.06447393, -0.22268532,  0.07507505,\n",
              "        -0.28055465, -0.01969799, -0.26354548, -0.30530336, -0.0447772 ,\n",
              "        -0.24670511,  0.119343  ,  0.08742647, -0.02256166,  0.17026255,\n",
              "         0.07612792, -0.306843  , -0.05013254,  0.34590873, -0.00152096,\n",
              "        -0.255828  ,  0.16585533, -0.02580079]], dtype=float32)>"
            ]
          },
          "execution_count": 119,
          "metadata": {},
          "output_type": "execute_result"
        }
      ],
      "source": [
        "# Model that generates 128-dimensional embeddings for English text\n",
        "model_url = \"https://tfhub.dev/google/nnlm-en-dim128-with-normalization/2\"\n",
        "embedding = tf_hub.KerasLayer(model_url, trainable=False, input_shape=[], dtype=tf.string, name=\"embedding_layer\")\n",
        "\n",
        "embedding(imdb_reviews_df[\"text\"].to_numpy()[:1])"
      ]
    },
    {
      "cell_type": "markdown",
      "id": "793cd04b",
      "metadata": {
        "id": "793cd04b"
      },
      "source": [
        "## 3.2 Identify the target variables.\n",
        "\n",
        "- Separate the data front the target such that the dataset is in the form of (X,y) or (Features, Label)\n",
        "\n",
        "- Discretize / Encode the target variable or perform one-hot encoding on the target or any other as and if required.\n"
      ]
    },
    {
      "cell_type": "code",
      "execution_count": 120,
      "id": "c9089b57",
      "metadata": {
        "colab": {
          "base_uri": "https://localhost:8080/"
        },
        "id": "c9089b57",
        "outputId": "08974340-51d5-47e6-bc2d-eb904bee401c"
      },
      "outputs": [
        {
          "data": {
            "text/plain": [
              "((49582,), (49582,))"
            ]
          },
          "execution_count": 120,
          "metadata": {},
          "output_type": "execute_result"
        }
      ],
      "source": [
        "##---------Type the code below this line------------------##\n",
        "# Target variable is label: 0 = negative, 1 = positive\n",
        "# Already binary encoded\n",
        "\n",
        "X = imdb_reviews_df[\"text\"].to_numpy()\n",
        "y = imdb_reviews_df[\"label\"].to_numpy()\n",
        "\n",
        "X.shape, y.shape"
      ]
    },
    {
      "cell_type": "markdown",
      "id": "4cd14601",
      "metadata": {
        "id": "4cd14601"
      },
      "source": [
        "## 3.3 Split the data into training set and testing set\n"
      ]
    },
    {
      "cell_type": "code",
      "execution_count": 121,
      "id": "1a74cd9c",
      "metadata": {
        "colab": {
          "base_uri": "https://localhost:8080/"
        },
        "id": "1a74cd9c",
        "outputId": "c31e3fc6-9908-4047-fed1-76de9ac69390"
      },
      "outputs": [
        {
          "data": {
            "text/plain": [
              "((34707,), (7437,), (7438,))"
            ]
          },
          "execution_count": 121,
          "metadata": {},
          "output_type": "execute_result"
        }
      ],
      "source": [
        "##---------Type the code below this line------------------##\n",
        "\n",
        "# 70% of the data will be used for training, 15% for validation, and 15% for testing\n",
        "X_train, X_test, y_train, y_test = train_test_split(X, y, test_size=0.3, random_state=42)\n",
        "X_validation, X_test, y_validation, y_test = train_test_split(X_test, y_test, test_size=0.5, random_state=42)\n",
        "\n",
        "X_train.shape, X_validation.shape, X_test.shape"
      ]
    },
    {
      "cell_type": "markdown",
      "id": "e3cec4fc",
      "metadata": {
        "id": "e3cec4fc"
      },
      "source": [
        "## 3.4 Preprocessing report\n",
        "\n",
        "Mention the method adopted and justify why the method was used\n",
        "\n",
        "- to remove duplicate data, if present\n",
        "- to impute or remove missing data, if present\n",
        "- to remove data inconsistencies, if present\n",
        "- to encode categorical data\n",
        "- the normalization technique used\n",
        "\n",
        "If the any of the above are not present, then also add in the report below.\n",
        "\n",
        "Report the size of the training dataset and testing dataset\n"
      ]
    },
    {
      "cell_type": "markdown",
      "id": "YO_Jwx3Ge5Z-",
      "metadata": {
        "id": "YO_Jwx3Ge5Z-"
      },
      "source": [
        "##---------Type the answer below this line------------------##\n",
        "\n",
        "- To remove duplicate data, we used the `drop_duplicates()` method from pandas.\n",
        "- To remove missing data, we used the `dropna()` method from pandas.\n",
        "- The data is text data, so didn't check for data inconsistencies.\n",
        "- The label was already categorical (1/0), so no encoding was needed.\n",
        "- For normalization an embedding model from tensorflow_hub will be used. (model_url = https://tfhub.dev/google/nnlm-en-dim128-with-normalization/2)\n",
        "- Data was split into training, validation, and testing sets using `train_test_split` from sklearn. 70% of the data was used for training, 15% for validation, and 15% for testing.\n"
      ]
    },
    {
      "cell_type": "markdown",
      "id": "3ae0b5d2",
      "metadata": {
        "id": "3ae0b5d2"
      },
      "source": [
        "# 4. Deep Neural Network Architecture - Score: Marks\n"
      ]
    },
    {
      "cell_type": "markdown",
      "id": "186bf4d7",
      "metadata": {
        "id": "186bf4d7"
      },
      "source": [
        "## 4.1 Design the architecture that you will be using\n",
        "\n",
        "- Sequential Model Building with Activation for each layer.\n",
        "- Add dense layers, specifying the number of units in each layer and the activation function used in the layer.\n",
        "- Use Relu Activation function in each hidden layer\n",
        "- Use Sigmoid / softmax Activation function in the output layer as required\n",
        "\n",
        "DO NOT USE CNN OR RNN.\n"
      ]
    },
    {
      "cell_type": "code",
      "execution_count": 122,
      "id": "868d7b27",
      "metadata": {
        "colab": {
          "base_uri": "https://localhost:8080/"
        },
        "id": "868d7b27",
        "outputId": "fbd7b348-1c4c-44d9-957c-73fc3d594831"
      },
      "outputs": [
        {
          "name": "stdout",
          "output_type": "stream",
          "text": [
            "Model: \"sequential_11\"\n",
            "_________________________________________________________________\n",
            " Layer (type)                Output Shape              Param #   \n",
            "=================================================================\n",
            " embedding (KerasLayer)      (None, 128)               124642688 \n",
            "                                                                 \n",
            " hidden_1 (Dense)            (None, 32)                4128      \n",
            "                                                                 \n",
            " dropout_1 (Dropout)         (None, 32)                0         \n",
            "                                                                 \n",
            " hidden_2 (Dense)            (None, 8)                 264       \n",
            "                                                                 \n",
            " dropout_2 (Dropout)         (None, 8)                 0         \n",
            "                                                                 \n",
            " output (Dense)              (None, 1)                 9         \n",
            "                                                                 \n",
            "=================================================================\n",
            "Total params: 124647089 (475.49 MB)\n",
            "Trainable params: 124647089 (475.49 MB)\n",
            "Non-trainable params: 0 (0.00 Byte)\n",
            "_________________________________________________________________\n"
          ]
        }
      ],
      "source": [
        "##---------Type the code below this line------------------##\n",
        "\n",
        "model = tf_keras.Sequential(\n",
        "    [\n",
        "        # hub layer raises an error due to backward compatibility: https://github.com/tensorflow/tensorflow/issues/63085#issuecomment-2303851416\n",
        "        # The tensorflow and keras library versions were downgraded because of this.\n",
        "        # The second option is to use Lambda layer wrapper around hub layer\n",
        "        # but that stops showing params and output shape in summary\n",
        "        tf_hub.KerasLayer(\n",
        "            \"https://tfhub.dev/google/nnlm-en-dim128-with-normalization/2\",\n",
        "            trainable=True,\n",
        "            input_shape=[],\n",
        "            dtype=tf.string,\n",
        "            name=\"embedding\",\n",
        "        ),\n",
        "        tf_keras.layers.Dense(\n",
        "            32,\n",
        "            activation=tf_keras.activations.relu,\n",
        "            kernel_regularizer=tf_keras.regularizers.l2(0.01),\n",
        "            name=\"hidden_1\",\n",
        "        ),\n",
        "        tf_keras.layers.Dropout(\n",
        "            0.5,\n",
        "            name=\"dropout_1\",\n",
        "        ),\n",
        "        tf_keras.layers.Dense(\n",
        "            8,\n",
        "            activation=tf_keras.activations.relu,\n",
        "            kernel_regularizer=tf_keras.regularizers.l2(0.01),\n",
        "            name=\"hidden_2\",\n",
        "        ),\n",
        "        tf_keras.layers.Dropout(\n",
        "            0.5,\n",
        "            name=\"dropout_2\",\n",
        "        ),\n",
        "        tf_keras.layers.Dense(\n",
        "            1,\n",
        "            activation=tf_keras.activations.sigmoid,\n",
        "            name=\"output\",\n",
        "        ),\n",
        "    ],\n",
        ")\n",
        "\n",
        "model.summary()"
      ]
    },
    {
      "cell_type": "markdown",
      "id": "575f9e37",
      "metadata": {
        "id": "575f9e37"
      },
      "source": [
        "## 4.2 DNN Report\n",
        "\n",
        "Report the following and provide justification for the same.\n",
        "\n",
        "- Number of layers\n",
        "- Number of units in each layer\n",
        "- Total number of trainable parameters\n"
      ]
    },
    {
      "cell_type": "code",
      "execution_count": 123,
      "id": "6ad56d90",
      "metadata": {
        "id": "6ad56d90"
      },
      "outputs": [],
      "source": [
        "##---------Type the answer below this line------------------##\n",
        "#  Layers: Input + Embedding + 2 Dense Hidden + 1 Dense Output\n",
        "\n",
        "# Units: 128 -> 64 -> 1\n",
        "# Activation: ReLU (hidden), Sigmoid (output)"
      ]
    },
    {
      "cell_type": "markdown",
      "id": "bdbc82a1",
      "metadata": {
        "id": "bdbc82a1"
      },
      "source": [
        "# 5. Training the model - Score: 1 Mark\n"
      ]
    },
    {
      "cell_type": "markdown",
      "id": "ca214eb3",
      "metadata": {
        "id": "ca214eb3"
      },
      "source": [
        "## 5.1 Configure the training\n",
        "\n",
        "Configure the model for training, by using appropriate optimizers and regularizations\n",
        "\n",
        "Compile with categorical CE loss and metric accuracy.\n"
      ]
    },
    {
      "cell_type": "code",
      "execution_count": 124,
      "id": "a85e9754",
      "metadata": {
        "id": "a85e9754"
      },
      "outputs": [],
      "source": [
        "##---------Type the code below this line------------------##\n",
        "\n",
        "# Using binary cross entropy loss is output is a sigmoid activation function\n",
        "# Compile and train the model with SGD optimizer\n",
        "model.compile(\n",
        "    optimizer=tf_keras.optimizers.SGD(learning_rate=0.01, momentum=0.9),\n",
        "    loss=tf.keras.losses.BinaryCrossentropy(from_logits=False),\n",
        "    metrics=[\"accuracy\"],\n",
        ")"
      ]
    },
    {
      "cell_type": "markdown",
      "id": "32fd60d8",
      "metadata": {
        "id": "32fd60d8"
      },
      "source": [
        "## 5.2 Train the model\n",
        "\n",
        "Train Model with cross validation, with total time taken shown for 20 epochs.\n",
        "\n",
        "Use SGD.\n"
      ]
    },
    {
      "cell_type": "code",
      "execution_count": 125,
      "id": "8efaa227",
      "metadata": {
        "colab": {
          "base_uri": "https://localhost:8080/"
        },
        "id": "8efaa227",
        "outputId": "8f882d32-2bff-4c84-826c-0a5fb3eb66d0"
      },
      "outputs": [
        {
          "name": "stdout",
          "output_type": "stream",
          "text": [
            "Epoch 1/20\n",
            "35/35 [==============================] - 12s 320ms/step - loss: 1.3161 - accuracy: 0.4977 - val_loss: 1.2665 - val_accuracy: 0.5073\n",
            "Epoch 2/20\n",
            "35/35 [==============================] - 11s 313ms/step - loss: 1.2292 - accuracy: 0.5090 - val_loss: 1.1897 - val_accuracy: 0.5067\n",
            "Epoch 3/20\n",
            "35/35 [==============================] - 11s 320ms/step - loss: 1.1563 - accuracy: 0.5121 - val_loss: 1.1227 - val_accuracy: 0.5383\n",
            "Epoch 4/20\n",
            "35/35 [==============================] - 10s 301ms/step - loss: 1.0929 - accuracy: 0.5321 - val_loss: 1.0615 - val_accuracy: 0.6548\n",
            "Epoch 5/20\n",
            "35/35 [==============================] - 11s 305ms/step - loss: 1.0364 - accuracy: 0.5441 - val_loss: 1.0038 - val_accuracy: 0.6958\n",
            "Epoch 6/20\n",
            "35/35 [==============================] - 11s 325ms/step - loss: 0.9863 - accuracy: 0.5535 - val_loss: 0.9556 - val_accuracy: 0.7102\n",
            "Epoch 7/20\n",
            "35/35 [==============================] - 11s 318ms/step - loss: 0.9408 - accuracy: 0.5736 - val_loss: 0.9125 - val_accuracy: 0.7289\n",
            "Epoch 8/20\n",
            "35/35 [==============================] - 10s 284ms/step - loss: 0.9021 - accuracy: 0.5881 - val_loss: 0.8738 - val_accuracy: 0.7373\n",
            "Epoch 9/20\n",
            "35/35 [==============================] - 11s 325ms/step - loss: 0.8662 - accuracy: 0.6016 - val_loss: 0.8372 - val_accuracy: 0.7453\n",
            "Epoch 10/20\n",
            "35/35 [==============================] - 10s 291ms/step - loss: 0.8337 - accuracy: 0.6132 - val_loss: 0.8027 - val_accuracy: 0.7533\n",
            "Epoch 11/20\n",
            "35/35 [==============================] - 10s 298ms/step - loss: 0.8018 - accuracy: 0.6278 - val_loss: 0.7681 - val_accuracy: 0.7617\n",
            "Epoch 12/20\n",
            "35/35 [==============================] - 10s 299ms/step - loss: 0.7737 - accuracy: 0.6367 - val_loss: 0.7356 - val_accuracy: 0.7713\n",
            "Epoch 13/20\n",
            "35/35 [==============================] - 10s 293ms/step - loss: 0.7458 - accuracy: 0.6491 - val_loss: 0.7029 - val_accuracy: 0.7812\n",
            "Epoch 14/20\n",
            "35/35 [==============================] - 10s 298ms/step - loss: 0.7185 - accuracy: 0.6771 - val_loss: 0.6719 - val_accuracy: 0.7925\n",
            "Epoch 15/20\n",
            "35/35 [==============================] - 10s 294ms/step - loss: 0.6950 - accuracy: 0.6950 - val_loss: 0.6434 - val_accuracy: 0.7987\n",
            "Epoch 16/20\n",
            "35/35 [==============================] - 10s 297ms/step - loss: 0.6711 - accuracy: 0.7150 - val_loss: 0.6160 - val_accuracy: 0.8057\n",
            "Epoch 17/20\n",
            "35/35 [==============================] - 11s 306ms/step - loss: 0.6536 - accuracy: 0.7254 - val_loss: 0.5925 - val_accuracy: 0.8120\n",
            "Epoch 18/20\n",
            "35/35 [==============================] - 10s 296ms/step - loss: 0.6331 - accuracy: 0.7426 - val_loss: 0.5720 - val_accuracy: 0.8173\n",
            "Epoch 19/20\n",
            "35/35 [==============================] - 10s 285ms/step - loss: 0.6147 - accuracy: 0.7545 - val_loss: 0.5519 - val_accuracy: 0.8229\n",
            "Epoch 20/20\n",
            "35/35 [==============================] - 11s 303ms/step - loss: 0.6024 - accuracy: 0.7591 - val_loss: 0.5363 - val_accuracy: 0.8283\n"
          ]
        }
      ],
      "source": [
        "##---------Type the code below this line------------------##\n",
        "\n",
        "# Early stop\n",
        "early_stopping = tf_keras.callbacks.EarlyStopping(\n",
        "    # Maximum time it is allowed val_loss to be deteriorated\n",
        "    patience=4,\n",
        "    # used to restore the model weights from the best value observed epoch\n",
        "    restore_best_weights=True,\n",
        ")\n",
        "\n",
        "\n",
        "history = model.fit(\n",
        "    X_train,\n",
        "    y_train,\n",
        "    validation_data=(X_validation, y_validation),\n",
        "    epochs=20,\n",
        "    batch_size=1000,\n",
        "    callbacks=[early_stopping],\n",
        "    verbose=1,\n",
        ")\n"
      ]
    },
    {
      "cell_type": "markdown",
      "id": "19bd0c56",
      "metadata": {
        "id": "19bd0c56"
      },
      "source": [
        "Justify your choice of optimizers and regulizations used and the hyperparameters tuned\n"
      ]
    },
    {
      "cell_type": "markdown",
      "id": "je8u-FZd18jO",
      "metadata": {
        "id": "je8u-FZd18jO"
      },
      "source": [
        "##---------Type the answers below this line------------------##\n",
        "\n",
        "**SGD**: Stochastic Gradient Descent is used as suggested in the assignment. A batch size of 1000 is used to speed up each epoch which getting a descent accuracy on first epoch itself.\n",
        "\n",
        "**Learning Rate**: A learning rate of 0.01 is used to ensure that the model converges without overshooting the minimum.\n",
        "\n",
        "**Momentum**: A momentum of 0.9 is used to help the model converge faster and avoid local minima.\n",
        "\n",
        "**L2 Regularization**: L2 regularization is used to prevent overfitting by penalizing large weights. A value of 0.01 is used for the regularization strength.\n",
        "\n",
        "**Dropout**: Dropout is used to prevent overfitting by randomly dropping out 50% of the neurons in the hidden layers during training. This helps the model generalize better to unseen data.\n",
        "\n",
        "**Early Stopping**: Early stopping is used to prevent overfitting by stopping the training process when the validation loss does not improve for 4 consecutive epochs. This helps to save time and resources by not training the model unnecessarily.\n"
      ]
    },
    {
      "cell_type": "markdown",
      "id": "06f1173c",
      "metadata": {
        "id": "06f1173c"
      },
      "source": [
        "# 6. Test the model - 0.5 marks\n"
      ]
    },
    {
      "cell_type": "code",
      "execution_count": 126,
      "id": "7042235d",
      "metadata": {
        "id": "7042235d"
      },
      "outputs": [
        {
          "name": "stdout",
          "output_type": "stream",
          "text": [
            "1/1 [==============================] - 0s 119ms/step\n"
          ]
        },
        {
          "data": {
            "application/vnd.microsoft.datawrangler.viewer.v0+json": {
              "columns": [
                {
                  "name": "index",
                  "rawType": "int64",
                  "type": "integer"
                },
                {
                  "name": "Text",
                  "rawType": "object",
                  "type": "unknown"
                },
                {
                  "name": "True Label",
                  "rawType": "int64",
                  "type": "integer"
                },
                {
                  "name": "Predicted Probability",
                  "rawType": "int32",
                  "type": "integer"
                },
                {
                  "name": "Predicted Label",
                  "rawType": "int32",
                  "type": "integer"
                }
              ],
              "ref": "0f6135d4-ebb6-41a9-b3c5-48323661c2d7",
              "rows": [
                [
                  "0",
                  "b\"If you like who-dun-its, you will like this film, considered the best Italian detective story (giallo), Fulci has done.<br /><br />It's not Mickey Spillane for sure. There are scenes designed to disturb anyone.<br /><br />Many would be offended by a local beauty trying to seduce a 12-year-old boy. She was joking, but she was naked nonetheless, and he would have jumped at the chance to jump her bones. She also tries to tempt the local priest.<br /><br />Young boys are turning up missing, and there are several interesting suspects. You have to watch carefully to discover the killer. Can you? Don't jump on the first guy, it's way too early, and he is too obvious.<br /><br />Anyone familiar with Fulci will be able to guess the killer, who died a violent death at the end. What crazy reasoning he had.\"",
                  "1",
                  "0",
                  "0"
                ],
                [
                  "1",
                  "b'This film was slow but tedious and the acting often drifted into the land of ham. Redgrave\\'s character was unappealing as the 60 something woman trying to compete with Thurman\\'s 20 something for the love of Fox\\'s character (why is beyond me). The title of the movie should have been \"Shallow people on the lake\". The actors played like they were in a rehearsal. A dreadfully predictable ending to boot. I can\\'t believe this is on this website as a comedy!'",
                  "0",
                  "0",
                  "0"
                ],
                [
                  "2",
                  "b'House of Games is spell binding. It\\'s so nice to occasionally see films that are perfect tens. There are few movies I\\'ve seen that can grip you so quickly. From the opening scene this movie just gets you.<br /><br />I\\'m trying really hard not to give to much away to those who may not yet have seen this but there will be a FEW SPOILERS SO DON\\'T READ ANYMORE IF YOU DON\\'T WANT TO KNOW.<br /><br />I would say House of Games is not just a superb film but is the best movie about con artists I have ever seen-bar none. From the moment the movie is over it begs to be replayed.<br /><br />Lindsay Crouse as Margaret Ford is simply perfection, from her mannerisms to the inflection of her voice she gets into the role immediately. Joe Mantegna was also wonderful. The dialogue in this movie has an unforced almost unscripted quality and these two people communicate as much in a look as they do with their voices. I also loved the way the movie was filmed, in that grainy, surreal type of way, it fit perfectly and helped make the film what it was.<br /><br />There were a few movies I\\'ve seen and loved that this reminded me of including The Grifters and The usual Suspects but really, House of games is completely different in it\\'s way. Margaret and Mike are two of the most absorbing characters I\\'ve seen on the big screen and not only do they have screen chemistry that is strong and palpable from the moment they meet, but the buildup that starts from the moment they set eyes on each other is electrifying. You know something\\'s going to happen but you have no idea what. And just when you think you\\'ve guessed what the \"something\" is, you realize you haven\\'t even scratched the surface....<br /><br />House of Games is one of those movies that may be lumped in to a certain genre of movie type but is essentially a movie about human nature. The character study is not just about the mind of the con artist but the victim as well. As the movie moves along and we get to know more and more about the main characters, we learn about them not just through what they say but how they say it. It is a great character study and is flawless in the way it speeds to it\\'s conclusion.<br /><br />In closing, I\\'d rank this 10 of 10, call it (although not my absolute favorite film, pretty high on the list), most definitely outstanding and would go so far as to say it does rank as one of the best character studies and contains some of the best \"twists\" I\\'ve ever seen as well. Although I love all types and genres of movies, when it comes to movies of the human psyche, it really doesn\\'t get much better then this. See this movie.'",
                  "1",
                  "0",
                  "0"
                ],
                [
                  "3",
                  "b\"What a load of Leftist Hollywood bilge. This movie glorifies mutiny as brave and noble if it be for pacifist principles. The fairytale ends with the pacifist character, played by Danzel Washington, actually getting promoted for his treason. What is it with these Hollywood tools? Is this still payback for McCarthyism?<br /><br />If I sound cynical it's because I am fed up with movies hawking a political agenda. The military brass in this movie are portrayed as, what else? Gung-ho war mongers. Sound familiar? Ever see a movie where the CIA or any government agency is not evil? Think about it. Yet again, Crimson Tide stresses the point. The Hackman character, U-boat captain Ramsey, comes across like a raving lunatic, until the very end when, of course he comes to his senses, does a complete 360, renounces his blood lust, suggests a promotion for the treasonous Ron Hunter, and repents by retiring from the service. A guy mutinies, takes command of your boat, puts the U.S at grave risk of receiving a nuclear first-strike, and you promote him???? What hogwash!\"",
                  "0",
                  "0",
                  "0"
                ],
                [
                  "4",
                  "b\"A movie about a French girl who gets raped by street hoodlums. The rape scene itself is shot in all it's gory detail with all the male and female organs and their interactions clearly visible to the camera. In a fit of rage, the victim grabs her friend's (or was it brother ?) gun, shoots him and runs off with the weapon. She meets this prostitute who has just seen her pimp shot down, they team up, and make off towards Paris. A series of crazy, meaningless and wild killings follow, the girls seem to enjoy every murder more than the one before. One poor guy gets shot in the ****hole. There are good doses of sex thrown in between the numerous killings.<br /><br />The movie is not the most violent I have seen, I would say Saving Private Ryan probably had more violence in it. If violence is what you are looking for, then there are lots of other movies out there. And if it's sex you are out for, then I would suggest one of those XXX ones.<br /><br />I went to see the movie because of all the hype the media was giving it. The movie itself is no big deal, just a lot of violence and sex shot with something like a hand-held camera. I was surprised this movie had a 15 year age limit in Sweden, if 15 year-olds can watch this movie, they should be able to watch XXX movies too.\"",
                  "0",
                  "0",
                  "0"
                ]
              ],
              "shape": {
                "columns": 4,
                "rows": 5
              }
            },
            "text/html": [
              "<div>\n",
              "<style scoped>\n",
              "    .dataframe tbody tr th:only-of-type {\n",
              "        vertical-align: middle;\n",
              "    }\n",
              "\n",
              "    .dataframe tbody tr th {\n",
              "        vertical-align: top;\n",
              "    }\n",
              "\n",
              "    .dataframe thead th {\n",
              "        text-align: right;\n",
              "    }\n",
              "</style>\n",
              "<table border=\"1\" class=\"dataframe\">\n",
              "  <thead>\n",
              "    <tr style=\"text-align: right;\">\n",
              "      <th></th>\n",
              "      <th>Text</th>\n",
              "      <th>True Label</th>\n",
              "      <th>Predicted Probability</th>\n",
              "      <th>Predicted Label</th>\n",
              "    </tr>\n",
              "  </thead>\n",
              "  <tbody>\n",
              "    <tr>\n",
              "      <th>0</th>\n",
              "      <td>b\"If you like who-dun-its, you will like this ...</td>\n",
              "      <td>1</td>\n",
              "      <td>0</td>\n",
              "      <td>0</td>\n",
              "    </tr>\n",
              "    <tr>\n",
              "      <th>1</th>\n",
              "      <td>b'This film was slow but tedious and the actin...</td>\n",
              "      <td>0</td>\n",
              "      <td>0</td>\n",
              "      <td>0</td>\n",
              "    </tr>\n",
              "    <tr>\n",
              "      <th>2</th>\n",
              "      <td>b'House of Games is spell binding. It\\'s so ni...</td>\n",
              "      <td>1</td>\n",
              "      <td>0</td>\n",
              "      <td>0</td>\n",
              "    </tr>\n",
              "    <tr>\n",
              "      <th>3</th>\n",
              "      <td>b\"What a load of Leftist Hollywood bilge. This...</td>\n",
              "      <td>0</td>\n",
              "      <td>0</td>\n",
              "      <td>0</td>\n",
              "    </tr>\n",
              "    <tr>\n",
              "      <th>4</th>\n",
              "      <td>b\"A movie about a French girl who gets raped b...</td>\n",
              "      <td>0</td>\n",
              "      <td>0</td>\n",
              "      <td>0</td>\n",
              "    </tr>\n",
              "  </tbody>\n",
              "</table>\n",
              "</div>"
            ],
            "text/plain": [
              "                                                Text  True Label  \\\n",
              "0  b\"If you like who-dun-its, you will like this ...           1   \n",
              "1  b'This film was slow but tedious and the actin...           0   \n",
              "2  b'House of Games is spell binding. It\\'s so ni...           1   \n",
              "3  b\"What a load of Leftist Hollywood bilge. This...           0   \n",
              "4  b\"A movie about a French girl who gets raped b...           0   \n",
              "\n",
              "   Predicted Probability  Predicted Label  \n",
              "0                      0                0  \n",
              "1                      0                0  \n",
              "2                      0                0  \n",
              "3                      0                0  \n",
              "4                      0                0  "
            ]
          },
          "execution_count": 126,
          "metadata": {},
          "output_type": "execute_result"
        }
      ],
      "source": [
        "##---------Type the code below this line------------------##\n",
        "\n",
        "X_sample = X_test[:5]\n",
        "y_prob_sample = model.predict(X_sample).astype(int).flatten()\n",
        "y_pred_sample = (y_prob_sample > 0.5).astype(int).flatten()\n",
        "y_true_sample = y_test[:5]\n",
        "\n",
        "sample = pd.DataFrame(\n",
        "    {\n",
        "        \"Text\": X_sample,\n",
        "        \"True Label\": y_true_sample,\n",
        "        \"Predicted Probability\": y_prob_sample,\n",
        "        \"Predicted Label\": y_pred_sample,\n",
        "    },\n",
        ")\n",
        "\n",
        "sample.head(5)"
      ]
    },
    {
      "cell_type": "code",
      "execution_count": 127,
      "id": "def1e9ff",
      "metadata": {},
      "outputs": [
        {
          "data": {
            "text/plain": [
              "{'Text': b\"If you like who-dun-its, you will like this film, considered the best Italian detective story (giallo), Fulci has done.<br /><br />It's not Mickey Spillane for sure. There are scenes designed to disturb anyone.<br /><br />Many would be offended by a local beauty trying to seduce a 12-year-old boy. She was joking, but she was naked nonetheless, and he would have jumped at the chance to jump her bones. She also tries to tempt the local priest.<br /><br />Young boys are turning up missing, and there are several interesting suspects. You have to watch carefully to discover the killer. Can you? Don't jump on the first guy, it's way too early, and he is too obvious.<br /><br />Anyone familiar with Fulci will be able to guess the killer, who died a violent death at the end. What crazy reasoning he had.\",\n",
              " 'True Label': 1,\n",
              " 'Predicted Probability': 0,\n",
              " 'Predicted Label': 0}"
            ]
          },
          "execution_count": 127,
          "metadata": {},
          "output_type": "execute_result"
        }
      ],
      "source": [
        "sample.iloc[0].to_dict()"
      ]
    },
    {
      "cell_type": "markdown",
      "id": "eb57940c",
      "metadata": {
        "id": "eb57940c"
      },
      "source": [
        "# 7. Intermediate result - Score: 1 mark\n",
        "\n",
        "1. Plot the training and validation accuracy history.\n",
        "2. Plot the training and validation loss history.\n",
        "3. Report the testing accuracy and loss.\n",
        "4. Show Confusion Matrix for testing dataset.\n",
        "5. Report values for preformance study metrics like accuracy, precision, recall, F1 Score.\n"
      ]
    },
    {
      "cell_type": "markdown",
      "id": "e658685d",
      "metadata": {},
      "source": [
        "## 7.1. Plot the training and validation accuracy history\n"
      ]
    },
    {
      "cell_type": "code",
      "execution_count": 128,
      "id": "55a03506",
      "metadata": {
        "id": "55a03506"
      },
      "outputs": [
        {
          "data": {
            "image/png": "[encoded data removed]",
            "text/plain": [
              "<Figure size 800x500 with 1 Axes>"
            ]
          },
          "metadata": {},
          "output_type": "display_data"
        }
      ],
      "source": [
        "##---------Type the code below this line------------------##\n",
        "\n",
        "train_accuracy = history.history[\"accuracy\"]\n",
        "validation_accuracy = history.history[\"val_accuracy\"]\n",
        "\n",
        "plt.figure(figsize=(8, 5), dpi=100)\n",
        "plt.plot(range(1, len(train_accuracy) + 1), train_accuracy, label=\"Training Accuracy\", color=\"b\")\n",
        "plt.plot(range(1, len(validation_accuracy) + 1), validation_accuracy, label=\"Validation Accuracy\", color=\"r\")\n",
        "\n",
        "plt.xlabel(\"Epochs\")\n",
        "plt.ylabel(\"Accuracy\")\n",
        "\n",
        "plt.legend()\n",
        "plt.title(\"Training and Validation Accuracy\")\n",
        "\n",
        "plt.show()"
      ]
    },
    {
      "cell_type": "markdown",
      "id": "cae6db4a",
      "metadata": {},
      "source": [
        "## 7.2. Plot the training and validation loss history\n"
      ]
    },
    {
      "cell_type": "code",
      "execution_count": 129,
      "id": "553dba4a",
      "metadata": {},
      "outputs": [
        {
          "data": {
            "image/png": "[encoded data removed]",
            "text/plain": [
              "<Figure size 800x500 with 1 Axes>"
            ]
          },
          "metadata": {},
          "output_type": "display_data"
        }
      ],
      "source": [
        "train_loss = history.history[\"loss\"]\n",
        "validation_loss = history.history[\"val_loss\"]\n",
        "\n",
        "plt.figure(figsize=(8, 5), dpi=100)\n",
        "plt.plot(range(1, len(train_loss) + 1), train_loss, label=\"Training Loss\", color=\"b\")\n",
        "plt.plot(range(1, len(validation_loss) + 1), validation_loss, label=\"Validation Loss\", color=\"r\")\n",
        "\n",
        "plt.xlabel(\"Epochs\")\n",
        "plt.ylabel(\"Loss\")\n",
        "\n",
        "plt.legend()\n",
        "plt.title(\"Training and Validation Loss\")\n",
        "\n",
        "plt.show()"
      ]
    },
    {
      "cell_type": "markdown",
      "id": "6cde3d07",
      "metadata": {},
      "source": [
        "## 7.3. Report the testing accuracy and loss\n"
      ]
    },
    {
      "cell_type": "code",
      "execution_count": 130,
      "id": "f8dac212",
      "metadata": {},
      "outputs": [
        {
          "name": "stdout",
          "output_type": "stream",
          "text": [
            "Test Loss: 0.5398, Test Accuracy: 0.8237\n"
          ]
        }
      ],
      "source": [
        "loss, accuracy = model.evaluate(X_test, y_test, verbose=0)\n",
        "print(f\"Test Loss: {loss:.4f}, Test Accuracy: {accuracy:.4f}\")"
      ]
    },
    {
      "cell_type": "markdown",
      "id": "650113b2",
      "metadata": {},
      "source": [
        "## 7.4. Show Confusion Matrix for testing dataset.\n"
      ]
    },
    {
      "cell_type": "code",
      "execution_count": 131,
      "id": "a080fd85",
      "metadata": {},
      "outputs": [
        {
          "name": "stdout",
          "output_type": "stream",
          "text": [
            "233/233 [==============================] - 13s 58ms/step\n"
          ]
        },
        {
          "data": {
            "image/png": "[encoded data removed]",
            "text/plain": [
              "<Figure size 800x600 with 2 Axes>"
            ]
          },
          "metadata": {},
          "output_type": "display_data"
        }
      ],
      "source": [
        "y_prob = model.predict(X_test).flatten()\n",
        "y_pred = (y_prob > 0.5).astype(int)\n",
        "cm = confusion_matrix(y_true=y_test, y_pred=y_pred)\n",
        "\n",
        "plt.figure(figsize=(8, 6), dpi=100)\n",
        "sns.heatmap(\n",
        "    cm,\n",
        "    annot=True,\n",
        "    fmt=\"d\",\n",
        ")\n",
        "\n",
        "plt.title(\"Confusion Matrix\")\n",
        "plt.xlabel(\"Predicted Label\")\n",
        "plt.ylabel(\"True Label\")\n",
        "\n",
        "plt.show()"
      ]
    },
    {
      "cell_type": "markdown",
      "id": "ad03fd70",
      "metadata": {},
      "source": [
        "## 7.5. Report values for performance study metrics like accuracy, precision, recall, F1 Score\n"
      ]
    },
    {
      "cell_type": "code",
      "execution_count": null,
      "id": "fd990d07",
      "metadata": {},
      "outputs": [
        {
          "name": "stdout",
          "output_type": "stream",
          "text": [
            "Accuracy: 0.8237\n",
            "Precision: 0.8296\n",
            "Recall: 0.8095\n",
            "F1 Score: 0.8194\n"
          ]
        }
      ],
      "source": [
        "accuracy = accuracy_score(y_true=y_test, y_pred=y_pred)\n",
        "precision = precision_score(y_true=y_test, y_pred=y_pred)\n",
        "recall = recall_score(y_true=y_test, y_pred=y_pred)\n",
        "f1_score_ = f1_score(y_true=y_test, y_pred=y_pred)\n",
        "\n",
        "print(f\"Accuracy: {accuracy:.4f}\")\n",
        "print(f\"Precision: {precision:.4f}\")\n",
        "print(f\"Recall: {recall:.4f}\")\n",
        "print(f\"F1 Score: {f1_score_:.4f}\")"
      ]
    },
    {
      "cell_type": "markdown",
      "id": "c8146c5b",
      "metadata": {
        "id": "c8146c5b"
      },
      "source": [
        "# 8. Model architecture - Score: 1 mark\n",
        "\n",
        "Modify the architecture designed in section 4.1\n",
        "\n",
        "1. by decreasing one layer\n",
        "2. by increasing one layer\n",
        "\n",
        "For example, if the architecture in 4.1 has 5 layers, then 8.1 should have 4 layers and 8.2 should have 6 layers.\n",
        "\n",
        "Plot the comparison of the training and validation accuracy of the three architecures (4.1, 8.1 and 8.2)\n"
      ]
    },
    {
      "cell_type": "markdown",
      "id": "7ab876d2",
      "metadata": {},
      "source": [
        "## 8.1. Decrease one layer\n"
      ]
    },
    {
      "cell_type": "code",
      "execution_count": 133,
      "id": "b15e18d9",
      "metadata": {
        "id": "b15e18d9"
      },
      "outputs": [
        {
          "name": "stdout",
          "output_type": "stream",
          "text": [
            "Model: \"sequential_12\"\n",
            "_________________________________________________________________\n",
            " Layer (type)                Output Shape              Param #   \n",
            "=================================================================\n",
            " embedding (KerasLayer)      (None, 128)               124642688 \n",
            "                                                                 \n",
            " hidden_1 (Dense)            (None, 32)                4128      \n",
            "                                                                 \n",
            " dropout_1 (Dropout)         (None, 32)                0         \n",
            "                                                                 \n",
            " output (Dense)              (None, 1)                 33        \n",
            "                                                                 \n",
            "=================================================================\n",
            "Total params: 124646849 (475.49 MB)\n",
            "Trainable params: 124646849 (475.49 MB)\n",
            "Non-trainable params: 0 (0.00 Byte)\n",
            "_________________________________________________________________\n"
          ]
        }
      ],
      "source": [
        "##---------Type the code below this line------------------##\n",
        "\n",
        "model_one_layer_less = tf_keras.Sequential(\n",
        "    [\n",
        "        # hub layer raises an error due to backward compatibility: https://github.com/tensorflow/tensorflow/issues/63085#issuecomment-2303851416\n",
        "        # The tensorflow and keras library versions were downgraded because of this.\n",
        "        # The second option is to use Lambda layer wrapper around hub layer\n",
        "        # but that stops showing params and output shape in summary\n",
        "        tf_hub.KerasLayer(\n",
        "            \"https://tfhub.dev/google/nnlm-en-dim128-with-normalization/2\",\n",
        "            trainable=True,\n",
        "            input_shape=[],\n",
        "            dtype=tf.string,\n",
        "            name=\"embedding\",\n",
        "        ),\n",
        "        tf_keras.layers.Dense(\n",
        "            32,\n",
        "            activation=tf_keras.activations.relu,\n",
        "            kernel_regularizer=tf_keras.regularizers.l2(0.01),\n",
        "            name=\"hidden_1\",\n",
        "        ),\n",
        "        tf_keras.layers.Dropout(\n",
        "            0.5,\n",
        "            name=\"dropout_1\",\n",
        "        ),\n",
        "        tf_keras.layers.Dense(\n",
        "            1,\n",
        "            activation=tf_keras.activations.sigmoid,\n",
        "            name=\"output\",\n",
        "        ),\n",
        "    ],\n",
        ")\n",
        "\n",
        "model_one_layer_less.summary()"
      ]
    },
    {
      "cell_type": "code",
      "execution_count": 134,
      "id": "5f2ee30f",
      "metadata": {},
      "outputs": [],
      "source": [
        "model_one_layer_less.compile(\n",
        "    optimizer=tf_keras.optimizers.SGD(learning_rate=0.01, momentum=0.9),\n",
        "    loss=tf.keras.losses.BinaryCrossentropy(from_logits=False),\n",
        "    metrics=[\"accuracy\"],\n",
        ")"
      ]
    },
    {
      "cell_type": "code",
      "execution_count": 135,
      "id": "9a112f13",
      "metadata": {},
      "outputs": [
        {
          "name": "stdout",
          "output_type": "stream",
          "text": [
            "Epoch 1/20\n",
            "35/35 [==============================] - 12s 335ms/step - loss: 1.1902 - accuracy: 0.5286 - val_loss: 1.1290 - val_accuracy: 0.6230\n",
            "Epoch 2/20\n",
            "35/35 [==============================] - 11s 325ms/step - loss: 1.0953 - accuracy: 0.6165 - val_loss: 1.0461 - val_accuracy: 0.6893\n",
            "Epoch 3/20\n",
            "35/35 [==============================] - 12s 331ms/step - loss: 1.0193 - accuracy: 0.6430 - val_loss: 0.9714 - val_accuracy: 0.7073\n",
            "Epoch 4/20\n",
            "35/35 [==============================] - 328s 10s/step - loss: 0.9516 - accuracy: 0.6722 - val_loss: 0.9035 - val_accuracy: 0.7288\n",
            "Epoch 5/20\n",
            "35/35 [==============================] - 9s 271ms/step - loss: 0.8887 - accuracy: 0.6967 - val_loss: 0.8418 - val_accuracy: 0.7451\n",
            "Epoch 6/20\n",
            "35/35 [==============================] - 12s 335ms/step - loss: 0.8323 - accuracy: 0.7218 - val_loss: 0.7863 - val_accuracy: 0.7624\n",
            "Epoch 7/20\n",
            "35/35 [==============================] - 12s 329ms/step - loss: 0.7820 - accuracy: 0.7396 - val_loss: 0.7378 - val_accuracy: 0.7779\n",
            "Epoch 8/20\n",
            "35/35 [==============================] - 11s 309ms/step - loss: 0.7382 - accuracy: 0.7517 - val_loss: 0.6948 - val_accuracy: 0.7896\n",
            "Epoch 9/20\n",
            "35/35 [==============================] - 11s 304ms/step - loss: 0.7012 - accuracy: 0.7640 - val_loss: 0.6581 - val_accuracy: 0.7991\n",
            "Epoch 10/20\n",
            "35/35 [==============================] - 11s 307ms/step - loss: 0.6645 - accuracy: 0.7762 - val_loss: 0.6242 - val_accuracy: 0.8081\n",
            "Epoch 11/20\n",
            "35/35 [==============================] - 10s 301ms/step - loss: 0.6358 - accuracy: 0.7852 - val_loss: 0.5953 - val_accuracy: 0.8147\n",
            "Epoch 12/20\n",
            "35/35 [==============================] - 10s 301ms/step - loss: 0.6087 - accuracy: 0.7926 - val_loss: 0.5680 - val_accuracy: 0.8193\n",
            "Epoch 13/20\n",
            "35/35 [==============================] - 11s 316ms/step - loss: 0.5856 - accuracy: 0.7972 - val_loss: 0.5474 - val_accuracy: 0.8251\n",
            "Epoch 14/20\n",
            "35/35 [==============================] - 11s 307ms/step - loss: 0.5656 - accuracy: 0.8025 - val_loss: 0.5269 - val_accuracy: 0.8304\n",
            "Epoch 15/20\n",
            "35/35 [==============================] - 10s 301ms/step - loss: 0.5470 - accuracy: 0.8083 - val_loss: 0.5106 - val_accuracy: 0.8330\n",
            "Epoch 16/20\n",
            "35/35 [==============================] - 10s 297ms/step - loss: 0.5328 - accuracy: 0.8107 - val_loss: 0.4973 - val_accuracy: 0.8343\n",
            "Epoch 17/20\n",
            "35/35 [==============================] - 10s 277ms/step - loss: 0.5181 - accuracy: 0.8165 - val_loss: 0.4823 - val_accuracy: 0.8388\n",
            "Epoch 18/20\n",
            "35/35 [==============================] - 10s 295ms/step - loss: 0.5064 - accuracy: 0.8161 - val_loss: 0.4728 - val_accuracy: 0.8390\n",
            "Epoch 19/20\n",
            "35/35 [==============================] - 10s 287ms/step - loss: 0.4949 - accuracy: 0.8224 - val_loss: 0.4592 - val_accuracy: 0.8427\n",
            "Epoch 20/20\n",
            "35/35 [==============================] - 11s 317ms/step - loss: 0.4847 - accuracy: 0.8223 - val_loss: 0.4496 - val_accuracy: 0.8455\n"
          ]
        }
      ],
      "source": [
        "##---------Type the code below this line------------------##\n",
        "\n",
        "# Early stop\n",
        "early_stopping = tf_keras.callbacks.EarlyStopping(\n",
        "    # Maximum time it is allowed val_loss to be deteriorated\n",
        "    patience=4,\n",
        "    # used to restore the model weights from the best value observed epoch\n",
        "    restore_best_weights=True,\n",
        ")\n",
        "\n",
        "\n",
        "history_one_layer_less = model_one_layer_less.fit(\n",
        "    X_train,\n",
        "    y_train,\n",
        "    validation_data=(X_validation, y_validation),\n",
        "    epochs=20,\n",
        "    batch_size=1000,\n",
        "    callbacks=[early_stopping],\n",
        "    verbose=1,\n",
        ")"
      ]
    },
    {
      "cell_type": "markdown",
      "id": "7af4b60b",
      "metadata": {},
      "source": [
        "## 8.2. Increase one layer\n"
      ]
    },
    {
      "cell_type": "code",
      "execution_count": 136,
      "id": "95be9705",
      "metadata": {},
      "outputs": [
        {
          "name": "stdout",
          "output_type": "stream",
          "text": [
            "Model: \"sequential_13\"\n",
            "_________________________________________________________________\n",
            " Layer (type)                Output Shape              Param #   \n",
            "=================================================================\n",
            " embedding (KerasLayer)      (None, 128)               124642688 \n",
            "                                                                 \n",
            " hidden_1 (Dense)            (None, 32)                4128      \n",
            "                                                                 \n",
            " dropout_1 (Dropout)         (None, 32)                0         \n",
            "                                                                 \n",
            " hidden_2 (Dense)            (None, 16)                528       \n",
            "                                                                 \n",
            " dropout_2 (Dropout)         (None, 16)                0         \n",
            "                                                                 \n",
            " hidden_3 (Dense)            (None, 8)                 136       \n",
            "                                                                 \n",
            " dropout_3 (Dropout)         (None, 8)                 0         \n",
            "                                                                 \n",
            " output (Dense)              (None, 1)                 9         \n",
            "                                                                 \n",
            "=================================================================\n",
            "Total params: 124647489 (475.49 MB)\n",
            "Trainable params: 124647489 (475.49 MB)\n",
            "Non-trainable params: 0 (0.00 Byte)\n",
            "_________________________________________________________________\n"
          ]
        }
      ],
      "source": [
        "##---------Type the code below this line------------------##\n",
        "\n",
        "model_one_layer_more = tf_keras.Sequential(\n",
        "    [\n",
        "        # hub layer raises an error due to backward compatibility: https://github.com/tensorflow/tensorflow/issues/63085#issuecomment-2303851416\n",
        "        # The tensorflow and keras library versions were downgraded because of this.\n",
        "        # The second option is to use Lambda layer wrapper around hub layer\n",
        "        # but that stops showing params and output shape in summary\n",
        "        tf_hub.KerasLayer(\n",
        "            \"https://tfhub.dev/google/nnlm-en-dim128-with-normalization/2\",\n",
        "            trainable=True,\n",
        "            input_shape=[],\n",
        "            dtype=tf.string,\n",
        "            name=\"embedding\",\n",
        "        ),\n",
        "        tf_keras.layers.Dense(\n",
        "            32,\n",
        "            activation=tf_keras.activations.relu,\n",
        "            kernel_regularizer=tf_keras.regularizers.l2(0.01),\n",
        "            name=\"hidden_1\",\n",
        "        ),\n",
        "        tf_keras.layers.Dropout(\n",
        "            0.5,\n",
        "            name=\"dropout_1\",\n",
        "        ),\n",
        "        tf_keras.layers.Dense(\n",
        "            16,\n",
        "            activation=tf_keras.activations.relu,\n",
        "            kernel_regularizer=tf_keras.regularizers.l2(0.01),\n",
        "            name=\"hidden_2\",\n",
        "        ),\n",
        "        tf_keras.layers.Dropout(\n",
        "            0.5,\n",
        "            name=\"dropout_2\",\n",
        "        ),\n",
        "        tf_keras.layers.Dense(\n",
        "            8,\n",
        "            activation=tf_keras.activations.relu,\n",
        "            kernel_regularizer=tf_keras.regularizers.l2(0.01),\n",
        "            name=\"hidden_3\",\n",
        "        ),\n",
        "        tf_keras.layers.Dropout(\n",
        "            0.5,\n",
        "            name=\"dropout_3\",\n",
        "        ),\n",
        "        tf_keras.layers.Dense(\n",
        "            1,\n",
        "            activation=tf_keras.activations.sigmoid,\n",
        "            name=\"output\",\n",
        "        ),\n",
        "    ],\n",
        ")\n",
        "\n",
        "model_one_layer_more.summary()"
      ]
    },
    {
      "cell_type": "code",
      "execution_count": 137,
      "id": "a1eef7b6",
      "metadata": {},
      "outputs": [],
      "source": [
        "model_one_layer_more.compile(\n",
        "    optimizer=tf_keras.optimizers.SGD(learning_rate=0.01, momentum=0.9),\n",
        "    loss=tf.keras.losses.BinaryCrossentropy(from_logits=False),\n",
        "    metrics=[\"accuracy\"],\n",
        ")"
      ]
    },
    {
      "cell_type": "code",
      "execution_count": 138,
      "id": "8f2c7511",
      "metadata": {},
      "outputs": [
        {
          "name": "stdout",
          "output_type": "stream",
          "text": [
            "Epoch 1/20\n",
            "35/35 [==============================] - 13s 339ms/step - loss: 1.4934 - accuracy: 0.5171 - val_loss: 1.4351 - val_accuracy: 0.5002\n",
            "Epoch 2/20\n",
            "35/35 [==============================] - 11s 324ms/step - loss: 1.3835 - accuracy: 0.5435 - val_loss: 1.3356 - val_accuracy: 0.5233\n",
            "Epoch 3/20\n",
            "35/35 [==============================] - 11s 318ms/step - loss: 1.2900 - accuracy: 0.5544 - val_loss: 1.2492 - val_accuracy: 0.5522\n",
            "Epoch 4/20\n",
            "35/35 [==============================] - 10s 293ms/step - loss: 1.2095 - accuracy: 0.5648 - val_loss: 1.1741 - val_accuracy: 0.5907\n",
            "Epoch 5/20\n",
            "35/35 [==============================] - 10s 296ms/step - loss: 1.1394 - accuracy: 0.5699 - val_loss: 1.1086 - val_accuracy: 0.6203\n",
            "Epoch 6/20\n",
            "35/35 [==============================] - 10s 289ms/step - loss: 1.0782 - accuracy: 0.5806 - val_loss: 1.0504 - val_accuracy: 0.6480\n",
            "Epoch 7/20\n",
            "35/35 [==============================] - 10s 299ms/step - loss: 1.0255 - accuracy: 0.5902 - val_loss: 0.9996 - val_accuracy: 0.6755\n",
            "Epoch 8/20\n",
            "35/35 [==============================] - 10s 287ms/step - loss: 0.9776 - accuracy: 0.6069 - val_loss: 0.9551 - val_accuracy: 0.6863\n",
            "Epoch 9/20\n",
            "35/35 [==============================] - 11s 307ms/step - loss: 0.9365 - accuracy: 0.6117 - val_loss: 0.9136 - val_accuracy: 0.7070\n",
            "Epoch 10/20\n",
            "35/35 [==============================] - 10s 295ms/step - loss: 0.8996 - accuracy: 0.6233 - val_loss: 0.8756 - val_accuracy: 0.7227\n",
            "Epoch 11/20\n",
            "35/35 [==============================] - 10s 292ms/step - loss: 0.8658 - accuracy: 0.6367 - val_loss: 0.8410 - val_accuracy: 0.7351\n",
            "Epoch 12/20\n",
            "35/35 [==============================] - 10s 296ms/step - loss: 0.8356 - accuracy: 0.6456 - val_loss: 0.8077 - val_accuracy: 0.7495\n",
            "Epoch 13/20\n",
            "35/35 [==============================] - 9s 270ms/step - loss: 0.8085 - accuracy: 0.6570 - val_loss: 0.7763 - val_accuracy: 0.7636\n",
            "Epoch 14/20\n",
            "35/35 [==============================] - 11s 320ms/step - loss: 0.7808 - accuracy: 0.6737 - val_loss: 0.7453 - val_accuracy: 0.7767\n",
            "Epoch 15/20\n",
            "35/35 [==============================] - 10s 298ms/step - loss: 0.7548 - accuracy: 0.6909 - val_loss: 0.7143 - val_accuracy: 0.7866\n",
            "Epoch 16/20\n",
            "35/35 [==============================] - 11s 306ms/step - loss: 0.7297 - accuracy: 0.7032 - val_loss: 0.6878 - val_accuracy: 0.7945\n",
            "Epoch 17/20\n",
            "35/35 [==============================] - 11s 309ms/step - loss: 0.7082 - accuracy: 0.7132 - val_loss: 0.6566 - val_accuracy: 0.8022\n",
            "Epoch 18/20\n",
            "35/35 [==============================] - 10s 294ms/step - loss: 0.6887 - accuracy: 0.7233 - val_loss: 0.6303 - val_accuracy: 0.8100\n",
            "Epoch 19/20\n",
            "35/35 [==============================] - 11s 307ms/step - loss: 0.6702 - accuracy: 0.7342 - val_loss: 0.6128 - val_accuracy: 0.8113\n",
            "Epoch 20/20\n",
            "35/35 [==============================] - 10s 286ms/step - loss: 0.6490 - accuracy: 0.7432 - val_loss: 0.5940 - val_accuracy: 0.8162\n"
          ]
        }
      ],
      "source": [
        "##---------Type the code below this line------------------##\n",
        "\n",
        "# Early stop\n",
        "early_stopping = tf_keras.callbacks.EarlyStopping(\n",
        "    # Maximum time it is allowed val_loss to be deteriorated\n",
        "    patience=4,\n",
        "    # used to restore the model weights from the best value observed epoch\n",
        "    restore_best_weights=True,\n",
        ")\n",
        "\n",
        "\n",
        "history_one_layer_more = model_one_layer_more.fit(\n",
        "    X_train,\n",
        "    y_train,\n",
        "    validation_data=(X_validation, y_validation),\n",
        "    epochs=20,\n",
        "    batch_size=1000,\n",
        "    callbacks=[early_stopping],\n",
        "    verbose=1,\n",
        ")"
      ]
    },
    {
      "cell_type": "markdown",
      "id": "b6903061",
      "metadata": {},
      "source": [
        "## 8.3. Plot the comparison of the training and validation accuracy of the three architectures (4.1, 8.1 and 8.2)\n"
      ]
    },
    {
      "cell_type": "code",
      "execution_count": null,
      "id": "81892c61",
      "metadata": {},
      "outputs": [
        {
          "data": {
            "image/png": "[encoded data removed]",
            "text/plain": [
              "<Figure size 800x500 with 1 Axes>"
            ]
          },
          "metadata": {},
          "output_type": "display_data"
        }
      ],
      "source": [
        "##---------Type the code below this line------------------##\n",
        "\n",
        "train_accuracy = history.history[\"accuracy\"]\n",
        "validation_accuracy = history.history[\"val_accuracy\"]\n",
        "\n",
        "train_accuracy_one_layer_less = history_one_layer_less.history[\"accuracy\"]\n",
        "validation_accuracy_one_layer_less = history_one_layer_less.history[\"val_accuracy\"]\n",
        "\n",
        "train_accuracy_one_layer_more = history_one_layer_more.history[\"accuracy\"]\n",
        "validation_accuracy_one_layer_more = history_one_layer_more.history[\"val_accuracy\"]\n",
        "\n",
        "\n",
        "plt.figure(figsize=(8, 5), dpi=100)\n",
        "\n",
        "# Use different colors and styles for each model\n",
        "# Use dashed lines for training accuracy and solid lines for validation accuracy\n",
        "plt.plot(range(1, len(train_accuracy) + 1), train_accuracy, \"b--\", label=\"Training Accuracy\")\n",
        "plt.plot(range(1, len(validation_accuracy) + 1), validation_accuracy, \"b\", label=\"Validation Accuracy\")\n",
        "\n",
        "plt.plot(\n",
        "    range(1, len(train_accuracy_one_layer_less) + 1),\n",
        "    train_accuracy_one_layer_less,\n",
        "    \"g--\",\n",
        "    label=\"Training Accuracy (1 layer less)\",\n",
        ")\n",
        "plt.plot(\n",
        "    range(1, len(validation_accuracy_one_layer_less) + 1),\n",
        "    validation_accuracy_one_layer_less,\n",
        "    \"g\",\n",
        "    label=\"Validation Accuracy (1 layer less)\",\n",
        ")\n",
        "\n",
        "plt.plot(\n",
        "    range(1, len(train_accuracy_one_layer_more) + 1),\n",
        "    train_accuracy_one_layer_more,\n",
        "    \"r--\",\n",
        "    label=\"Training Accuracy (1 layer more)\",\n",
        ")\n",
        "plt.plot(\n",
        "    range(1, len(validation_accuracy_one_layer_more) + 1),\n",
        "    validation_accuracy_one_layer_more,\n",
        "    \"r\",\n",
        "    label=\"Validation Accuracy (1 layer more)\",\n",
        ")\n",
        "\n",
        "plt.xlabel(\"Epochs\")\n",
        "plt.ylabel(\"Accuracy\")\n",
        "\n",
        "plt.legend(loc=(1.05, 0))\n",
        "plt.title(\"Training and Validation Accuracy\")\n",
        "\n",
        "plt.show()"
      ]
    },
    {
      "cell_type": "markdown",
      "id": "d8d38cb0",
      "metadata": {
        "id": "d8d38cb0"
      },
      "source": [
        "# 9. Regularisations - Score: 1 mark\n",
        "\n",
        "Modify the architecture designed in section 4.1\n",
        "\n",
        "1. Dropout of ratio 0.25\n",
        "2. Dropout of ratio 0.25 with L2 regulariser with factor 1e−04.\n",
        "\n",
        "Plot the comparison of the training and validation accuracy of the three (4.1, 9.1 and 9.2)\n"
      ]
    },
    {
      "cell_type": "markdown",
      "id": "0ccb2c80",
      "metadata": {},
      "source": [
        "## 9.1. Dropout of ratio 0.25\n"
      ]
    },
    {
      "cell_type": "code",
      "execution_count": 140,
      "id": "f8ac5e88",
      "metadata": {},
      "outputs": [
        {
          "name": "stdout",
          "output_type": "stream",
          "text": [
            "Model: \"sequential_14\"\n",
            "_________________________________________________________________\n",
            " Layer (type)                Output Shape              Param #   \n",
            "=================================================================\n",
            " embedding (KerasLayer)      (None, 128)               124642688 \n",
            "                                                                 \n",
            " hidden_1 (Dense)            (None, 32)                4128      \n",
            "                                                                 \n",
            " dropout_1 (Dropout)         (None, 32)                0         \n",
            "                                                                 \n",
            " hidden_2 (Dense)            (None, 8)                 264       \n",
            "                                                                 \n",
            " dropout_2 (Dropout)         (None, 8)                 0         \n",
            "                                                                 \n",
            " output (Dense)              (None, 1)                 9         \n",
            "                                                                 \n",
            "=================================================================\n",
            "Total params: 124647089 (475.49 MB)\n",
            "Trainable params: 124647089 (475.49 MB)\n",
            "Non-trainable params: 0 (0.00 Byte)\n",
            "_________________________________________________________________\n"
          ]
        }
      ],
      "source": [
        "##---------Type the code below this line------------------##\n",
        "\n",
        "model_dropout = tf_keras.Sequential(\n",
        "    [\n",
        "        # hub layer raises an error due to backward compatibility: https://github.com/tensorflow/tensorflow/issues/63085#issuecomment-2303851416\n",
        "        # The tensorflow and keras library versions were downgraded because of this.\n",
        "        # The second option is to use Lambda layer wrapper around hub layer\n",
        "        # but that stops showing params and output shape in summary\n",
        "        tf_hub.KerasLayer(\n",
        "            \"https://tfhub.dev/google/nnlm-en-dim128-with-normalization/2\",\n",
        "            trainable=True,\n",
        "            input_shape=[],\n",
        "            dtype=tf.string,\n",
        "            name=\"embedding\",\n",
        "        ),\n",
        "        tf_keras.layers.Dense(\n",
        "            32,\n",
        "            activation=tf_keras.activations.relu,\n",
        "            kernel_regularizer=tf_keras.regularizers.l2(0.01),\n",
        "            name=\"hidden_1\",\n",
        "        ),\n",
        "        tf_keras.layers.Dropout(\n",
        "            0.25,\n",
        "            name=\"dropout_1\",\n",
        "        ),\n",
        "        tf_keras.layers.Dense(\n",
        "            8,\n",
        "            activation=tf_keras.activations.relu,\n",
        "            kernel_regularizer=tf_keras.regularizers.l2(0.01),\n",
        "            name=\"hidden_2\",\n",
        "        ),\n",
        "        tf_keras.layers.Dropout(\n",
        "            0.25,\n",
        "            name=\"dropout_2\",\n",
        "        ),\n",
        "        tf_keras.layers.Dense(\n",
        "            1,\n",
        "            activation=tf_keras.activations.sigmoid,\n",
        "            name=\"output\",\n",
        "        ),\n",
        "    ],\n",
        ")\n",
        "\n",
        "model_dropout.summary()"
      ]
    },
    {
      "cell_type": "code",
      "execution_count": 141,
      "id": "7c224ec4",
      "metadata": {},
      "outputs": [],
      "source": [
        "##---------Type the code below this line------------------##\n",
        "\n",
        "# Using binary cross entropy loss is output is a sigmoid activation function\n",
        "# Compile and train the model with SGD optimizer\n",
        "model_dropout.compile(\n",
        "    optimizer=tf_keras.optimizers.SGD(learning_rate=0.01, momentum=0.9),\n",
        "    loss=tf.keras.losses.BinaryCrossentropy(from_logits=False),\n",
        "    metrics=[\"accuracy\"],\n",
        ")"
      ]
    },
    {
      "cell_type": "code",
      "execution_count": 142,
      "id": "b6a09ee6",
      "metadata": {},
      "outputs": [
        {
          "name": "stdout",
          "output_type": "stream",
          "text": [
            "Epoch 1/20\n",
            "35/35 [==============================] - 12s 342ms/step - loss: 1.3035 - accuracy: 0.5206 - val_loss: 1.2499 - val_accuracy: 0.6231\n",
            "Epoch 2/20\n",
            "35/35 [==============================] - 10s 295ms/step - loss: 1.2111 - accuracy: 0.5771 - val_loss: 1.1582 - val_accuracy: 0.6781\n",
            "Epoch 3/20\n",
            "35/35 [==============================] - 10s 285ms/step - loss: 1.1254 - accuracy: 0.6175 - val_loss: 1.0709 - val_accuracy: 0.7112\n",
            "Epoch 4/20\n",
            "35/35 [==============================] - 10s 276ms/step - loss: 1.0469 - accuracy: 0.6457 - val_loss: 0.9894 - val_accuracy: 0.7280\n",
            "Epoch 5/20\n",
            "35/35 [==============================] - 9s 270ms/step - loss: 0.9713 - accuracy: 0.6810 - val_loss: 0.9126 - val_accuracy: 0.7490\n",
            "Epoch 6/20\n",
            "35/35 [==============================] - 10s 283ms/step - loss: 0.9017 - accuracy: 0.7056 - val_loss: 0.8407 - val_accuracy: 0.7729\n",
            "Epoch 7/20\n",
            "35/35 [==============================] - 10s 296ms/step - loss: 0.8398 - accuracy: 0.7343 - val_loss: 0.7777 - val_accuracy: 0.7937\n",
            "Epoch 8/20\n",
            "35/35 [==============================] - 10s 281ms/step - loss: 0.7827 - accuracy: 0.7524 - val_loss: 0.7234 - val_accuracy: 0.8037\n",
            "Epoch 9/20\n",
            "35/35 [==============================] - 10s 276ms/step - loss: 0.7369 - accuracy: 0.7661 - val_loss: 0.6752 - val_accuracy: 0.8144\n",
            "Epoch 10/20\n",
            "35/35 [==============================] - 10s 286ms/step - loss: 0.6971 - accuracy: 0.7787 - val_loss: 0.6381 - val_accuracy: 0.8191\n",
            "Epoch 11/20\n",
            "35/35 [==============================] - 11s 328ms/step - loss: 0.6603 - accuracy: 0.7898 - val_loss: 0.6033 - val_accuracy: 0.8283\n",
            "Epoch 12/20\n",
            "35/35 [==============================] - 11s 317ms/step - loss: 0.6319 - accuracy: 0.7989 - val_loss: 0.5761 - val_accuracy: 0.8292\n",
            "Epoch 13/20\n",
            "35/35 [==============================] - 10s 298ms/step - loss: 0.6047 - accuracy: 0.8054 - val_loss: 0.5502 - val_accuracy: 0.8368\n",
            "Epoch 14/20\n",
            "35/35 [==============================] - 11s 317ms/step - loss: 0.5831 - accuracy: 0.8078 - val_loss: 0.5308 - val_accuracy: 0.8423\n",
            "Epoch 15/20\n",
            "35/35 [==============================] - 12s 339ms/step - loss: 0.5602 - accuracy: 0.8149 - val_loss: 0.5120 - val_accuracy: 0.8450\n",
            "Epoch 16/20\n",
            "35/35 [==============================] - 11s 311ms/step - loss: 0.5435 - accuracy: 0.8209 - val_loss: 0.4986 - val_accuracy: 0.8493\n",
            "Epoch 17/20\n",
            "35/35 [==============================] - 11s 312ms/step - loss: 0.5303 - accuracy: 0.8240 - val_loss: 0.4822 - val_accuracy: 0.8510\n",
            "Epoch 18/20\n",
            "35/35 [==============================] - 11s 312ms/step - loss: 0.5168 - accuracy: 0.8253 - val_loss: 0.4718 - val_accuracy: 0.8485\n",
            "Epoch 19/20\n",
            "35/35 [==============================] - 11s 315ms/step - loss: 0.5053 - accuracy: 0.8297 - val_loss: 0.4596 - val_accuracy: 0.8556\n",
            "Epoch 20/20\n",
            "35/35 [==============================] - 11s 321ms/step - loss: 0.4941 - accuracy: 0.8323 - val_loss: 0.4504 - val_accuracy: 0.8563\n"
          ]
        }
      ],
      "source": [
        "##---------Type the code below this line------------------##\n",
        "\n",
        "# Early stop\n",
        "early_stopping = tf_keras.callbacks.EarlyStopping(\n",
        "    # Maximum time it is allowed val_loss to be deteriorated\n",
        "    patience=4,\n",
        "    # used to restore the model weights from the best value observed epoch\n",
        "    restore_best_weights=True,\n",
        ")\n",
        "\n",
        "\n",
        "history_dropout = model_dropout.fit(\n",
        "    X_train,\n",
        "    y_train,\n",
        "    validation_data=(X_validation, y_validation),\n",
        "    epochs=20,\n",
        "    batch_size=1000,\n",
        "    callbacks=[early_stopping],\n",
        "    verbose=1,\n",
        ")\n"
      ]
    },
    {
      "cell_type": "markdown",
      "id": "cf78895d",
      "metadata": {},
      "source": [
        "## 9.2 Dropout of ratio 0.25 with L2 regularizer with factor 1e−04.\n"
      ]
    },
    {
      "cell_type": "code",
      "execution_count": 143,
      "id": "37b4e472",
      "metadata": {},
      "outputs": [
        {
          "name": "stdout",
          "output_type": "stream",
          "text": [
            "Model: \"sequential_15\"\n",
            "_________________________________________________________________\n",
            " Layer (type)                Output Shape              Param #   \n",
            "=================================================================\n",
            " embedding (KerasLayer)      (None, 128)               124642688 \n",
            "                                                                 \n",
            " hidden_1 (Dense)            (None, 32)                4128      \n",
            "                                                                 \n",
            " dropout_1 (Dropout)         (None, 32)                0         \n",
            "                                                                 \n",
            " hidden_2 (Dense)            (None, 8)                 264       \n",
            "                                                                 \n",
            " dropout_2 (Dropout)         (None, 8)                 0         \n",
            "                                                                 \n",
            " output (Dense)              (None, 1)                 9         \n",
            "                                                                 \n",
            "=================================================================\n",
            "Total params: 124647089 (475.49 MB)\n",
            "Trainable params: 124647089 (475.49 MB)\n",
            "Non-trainable params: 0 (0.00 Byte)\n",
            "_________________________________________________________________\n"
          ]
        }
      ],
      "source": [
        "##---------Type the code below this line------------------##\n",
        "\n",
        "model_dropout_and_regularization = tf_keras.Sequential(\n",
        "    [\n",
        "        # hub layer raises an error due to backward compatibility: https://github.com/tensorflow/tensorflow/issues/63085#issuecomment-2303851416\n",
        "        # The tensorflow and keras library versions were downgraded because of this.\n",
        "        # The second option is to use Lambda layer wrapper around hub layer\n",
        "        # but that stops showing params and output shape in summary\n",
        "        tf_hub.KerasLayer(\n",
        "            \"https://tfhub.dev/google/nnlm-en-dim128-with-normalization/2\",\n",
        "            trainable=True,\n",
        "            input_shape=[],\n",
        "            dtype=tf.string,\n",
        "            name=\"embedding\",\n",
        "        ),\n",
        "        tf_keras.layers.Dense(\n",
        "            32,\n",
        "            activation=tf_keras.activations.relu,\n",
        "            kernel_regularizer=tf_keras.regularizers.l2(0.0001),\n",
        "            name=\"hidden_1\",\n",
        "        ),\n",
        "        tf_keras.layers.Dropout(\n",
        "            0.25,\n",
        "            name=\"dropout_1\",\n",
        "        ),\n",
        "        tf_keras.layers.Dense(\n",
        "            8,\n",
        "            activation=tf_keras.activations.relu,\n",
        "            kernel_regularizer=tf_keras.regularizers.l2(0.0001),\n",
        "            name=\"hidden_2\",\n",
        "        ),\n",
        "        tf_keras.layers.Dropout(\n",
        "            0.25,\n",
        "            name=\"dropout_2\",\n",
        "        ),\n",
        "        tf_keras.layers.Dense(\n",
        "            1,\n",
        "            activation=tf_keras.activations.sigmoid,\n",
        "            name=\"output\",\n",
        "        ),\n",
        "    ],\n",
        ")\n",
        "\n",
        "model_dropout_and_regularization.summary()"
      ]
    },
    {
      "cell_type": "code",
      "execution_count": 144,
      "id": "43ac8dab",
      "metadata": {},
      "outputs": [],
      "source": [
        "##---------Type the code below this line------------------##\n",
        "\n",
        "# Using binary cross entropy loss is output is a sigmoid activation function\n",
        "# Compile and train the model with SGD optimizer\n",
        "model_dropout_and_regularization.compile(\n",
        "    optimizer=tf_keras.optimizers.SGD(learning_rate=0.01, momentum=0.9),\n",
        "    loss=tf.keras.losses.BinaryCrossentropy(from_logits=False),\n",
        "    metrics=[\"accuracy\"],\n",
        ")"
      ]
    },
    {
      "cell_type": "code",
      "execution_count": 145,
      "id": "b3195679",
      "metadata": {},
      "outputs": [
        {
          "name": "stdout",
          "output_type": "stream",
          "text": [
            "Epoch 1/20\n",
            "35/35 [==============================] - 13s 350ms/step - loss: 0.7040 - accuracy: 0.5043 - val_loss: 0.6919 - val_accuracy: 0.5656\n",
            "Epoch 2/20\n",
            "35/35 [==============================] - 12s 336ms/step - loss: 0.6887 - accuracy: 0.5618 - val_loss: 0.6682 - val_accuracy: 0.6665\n",
            "Epoch 3/20\n",
            "35/35 [==============================] - 11s 310ms/step - loss: 0.6697 - accuracy: 0.6087 - val_loss: 0.6398 - val_accuracy: 0.7043\n",
            "Epoch 4/20\n",
            "35/35 [==============================] - 10s 301ms/step - loss: 0.6464 - accuracy: 0.6409 - val_loss: 0.6074 - val_accuracy: 0.7327\n",
            "Epoch 5/20\n",
            "35/35 [==============================] - 11s 315ms/step - loss: 0.6200 - accuracy: 0.6702 - val_loss: 0.5734 - val_accuracy: 0.7562\n",
            "Epoch 6/20\n",
            "35/35 [==============================] - 10s 300ms/step - loss: 0.5932 - accuracy: 0.7001 - val_loss: 0.5408 - val_accuracy: 0.7736\n",
            "Epoch 7/20\n",
            "35/35 [==============================] - 11s 308ms/step - loss: 0.5667 - accuracy: 0.7212 - val_loss: 0.5091 - val_accuracy: 0.7929\n",
            "Epoch 8/20\n",
            "35/35 [==============================] - 12s 331ms/step - loss: 0.5381 - accuracy: 0.7429 - val_loss: 0.4794 - val_accuracy: 0.8060\n",
            "Epoch 9/20\n",
            "35/35 [==============================] - 11s 309ms/step - loss: 0.5167 - accuracy: 0.7572 - val_loss: 0.4576 - val_accuracy: 0.8152\n",
            "Epoch 10/20\n",
            "35/35 [==============================] - 11s 307ms/step - loss: 0.4975 - accuracy: 0.7713 - val_loss: 0.4400 - val_accuracy: 0.8209\n",
            "Epoch 11/20\n",
            "35/35 [==============================] - 11s 313ms/step - loss: 0.4808 - accuracy: 0.7794 - val_loss: 0.4210 - val_accuracy: 0.8282\n",
            "Epoch 12/20\n",
            "35/35 [==============================] - 12s 339ms/step - loss: 0.4696 - accuracy: 0.7859 - val_loss: 0.4083 - val_accuracy: 0.8326\n",
            "Epoch 13/20\n",
            "35/35 [==============================] - 11s 321ms/step - loss: 0.4590 - accuracy: 0.7918 - val_loss: 0.4005 - val_accuracy: 0.8349\n",
            "Epoch 14/20\n",
            "35/35 [==============================] - 12s 339ms/step - loss: 0.4479 - accuracy: 0.7989 - val_loss: 0.3942 - val_accuracy: 0.8369\n",
            "Epoch 15/20\n",
            "35/35 [==============================] - 11s 313ms/step - loss: 0.4390 - accuracy: 0.8049 - val_loss: 0.3813 - val_accuracy: 0.8427\n",
            "Epoch 16/20\n",
            "35/35 [==============================] - 11s 305ms/step - loss: 0.4283 - accuracy: 0.8110 - val_loss: 0.3743 - val_accuracy: 0.8442\n",
            "Epoch 17/20\n",
            "35/35 [==============================] - 10s 301ms/step - loss: 0.4220 - accuracy: 0.8168 - val_loss: 0.3648 - val_accuracy: 0.8485\n",
            "Epoch 18/20\n",
            "35/35 [==============================] - 11s 302ms/step - loss: 0.4150 - accuracy: 0.8234 - val_loss: 0.3605 - val_accuracy: 0.8526\n",
            "Epoch 19/20\n",
            "35/35 [==============================] - 11s 321ms/step - loss: 0.4101 - accuracy: 0.8268 - val_loss: 0.3552 - val_accuracy: 0.8518\n",
            "Epoch 20/20\n",
            "35/35 [==============================] - 11s 307ms/step - loss: 0.4010 - accuracy: 0.8323 - val_loss: 0.3497 - val_accuracy: 0.8550\n"
          ]
        }
      ],
      "source": [
        "##---------Type the code below this line------------------##\n",
        "\n",
        "# Early stop\n",
        "early_stopping = tf_keras.callbacks.EarlyStopping(\n",
        "    # Maximum time it is allowed val_loss to be deteriorated\n",
        "    patience=4,\n",
        "    # used to restore the model weights from the best value observed epoch\n",
        "    restore_best_weights=True,\n",
        ")\n",
        "\n",
        "\n",
        "history_dropout_and_regularization = model_dropout_and_regularization.fit(\n",
        "    X_train,\n",
        "    y_train,\n",
        "    validation_data=(X_validation, y_validation),\n",
        "    epochs=20,\n",
        "    batch_size=1000,\n",
        "    callbacks=[early_stopping],\n",
        "    verbose=1,\n",
        ")\n"
      ]
    },
    {
      "cell_type": "markdown",
      "id": "b5ba1166",
      "metadata": {},
      "source": [
        "## 9.3. Plot the comparison of the training and validation accuracy of the three (4.1, 9.1 and 9.2)\n"
      ]
    },
    {
      "cell_type": "code",
      "execution_count": null,
      "id": "7497b710",
      "metadata": {
        "id": "7497b710"
      },
      "outputs": [
        {
          "data": {
            "image/png": "[encoded data removed]",
            "text/plain": [
              "<Figure size 800x500 with 1 Axes>"
            ]
          },
          "metadata": {},
          "output_type": "display_data"
        }
      ],
      "source": [
        "##---------Type the code below this line------------------##\n",
        "\n",
        "train_accuracy = history.history[\"accuracy\"]\n",
        "validation_accuracy = history.history[\"val_accuracy\"]\n",
        "\n",
        "train_accuracy_dropout = history_dropout.history[\"accuracy\"]\n",
        "validation_accuracy_dropout = history_dropout.history[\"val_accuracy\"]\n",
        "\n",
        "train_accuracy_dropout_and_regularization = history_dropout_and_regularization.history[\"accuracy\"]\n",
        "validation_accuracy_dropout_and_regularization = history_dropout_and_regularization.history[\"val_accuracy\"]\n",
        "\n",
        "\n",
        "plt.figure(figsize=(8, 5), dpi=100)\n",
        "\n",
        "# Use different colors and styles for each model\n",
        "# Use dashed lines for training accuracy and solid lines for validation accuracy\n",
        "plt.plot(range(1, len(train_accuracy) + 1), train_accuracy, \"b--\", label=\"Training Accuracy\")\n",
        "plt.plot(range(1, len(validation_accuracy) + 1), validation_accuracy, \"b\", label=\"Validation Accuracy\")\n",
        "\n",
        "plt.plot(range(1, len(train_accuracy_dropout) + 1), train_accuracy_dropout, \"g--\", label=\"Training Accuracy (Dropout)\")\n",
        "plt.plot(\n",
        "    range(1, len(validation_accuracy_dropout) + 1),\n",
        "    validation_accuracy_dropout,\n",
        "    \"g\",\n",
        "    label=\"Validation Accuracy (Dropout)\",\n",
        ")\n",
        "\n",
        "plt.plot(\n",
        "    range(1, len(train_accuracy_dropout_and_regularization) + 1),\n",
        "    train_accuracy_dropout_and_regularization,\n",
        "    \"r--\",\n",
        "    label=\"Training Accuracy (Dropout and Regularization)\",\n",
        ")\n",
        "plt.plot(\n",
        "    range(1, len(validation_accuracy_dropout_and_regularization) + 1),\n",
        "    validation_accuracy_dropout_and_regularization,\n",
        "    \"r\",\n",
        "    label=\"Validation Accuracy (Dropout and Regularization)\",\n",
        ")\n",
        "\n",
        "plt.xlabel(\"Epochs\")\n",
        "plt.ylabel(\"Accuracy\")\n",
        "\n",
        "plt.legend(loc=(1.05, 0))\n",
        "plt.title(\"Training and Validation Accuracy\")\n",
        "\n",
        "plt.show()"
      ]
    },
    {
      "cell_type": "markdown",
      "id": "6529c4a9",
      "metadata": {
        "id": "6529c4a9"
      },
      "source": [
        "# 10. Optimisers -Score: 1 mark\n",
        "\n",
        "Modify the code written in section 5.2\n",
        "\n",
        "1. RMSProp with your choice of hyper parameters\n",
        "2. Adam with your choice of hyper parameters\n",
        "\n",
        "Plot the comparison of the training and validation accuracy of the three (4.1, 10.1 and 10.2)\n"
      ]
    },
    {
      "cell_type": "markdown",
      "id": "5ff79b38",
      "metadata": {},
      "source": [
        "## 10.1. RMSProp with your choice of hyper parameters\n"
      ]
    },
    {
      "cell_type": "code",
      "execution_count": 147,
      "id": "e283befc",
      "metadata": {},
      "outputs": [
        {
          "name": "stdout",
          "output_type": "stream",
          "text": [
            "Model: \"sequential_16\"\n",
            "_________________________________________________________________\n",
            " Layer (type)                Output Shape              Param #   \n",
            "=================================================================\n",
            " embedding (KerasLayer)      (None, 128)               124642688 \n",
            "                                                                 \n",
            " hidden_1 (Dense)            (None, 32)                4128      \n",
            "                                                                 \n",
            " dropout_1 (Dropout)         (None, 32)                0         \n",
            "                                                                 \n",
            " hidden_2 (Dense)            (None, 8)                 264       \n",
            "                                                                 \n",
            " dropout_2 (Dropout)         (None, 8)                 0         \n",
            "                                                                 \n",
            " output (Dense)              (None, 1)                 9         \n",
            "                                                                 \n",
            "=================================================================\n",
            "Total params: 124647089 (475.49 MB)\n",
            "Trainable params: 124647089 (475.49 MB)\n",
            "Non-trainable params: 0 (0.00 Byte)\n",
            "_________________________________________________________________\n"
          ]
        }
      ],
      "source": [
        "##---------Type the code below this line------------------##\n",
        "\n",
        "model_rms_prop = tf_keras.Sequential(\n",
        "    [\n",
        "        # hub layer raises an error due to backward compatibility: https://github.com/tensorflow/tensorflow/issues/63085#issuecomment-2303851416\n",
        "        # The tensorflow and keras library versions were downgraded because of this.\n",
        "        # The second option is to use Lambda layer wrapper around hub layer\n",
        "        # but that stops showing params and output shape in summary\n",
        "        tf_hub.KerasLayer(\n",
        "            \"https://tfhub.dev/google/nnlm-en-dim128-with-normalization/2\",\n",
        "            trainable=True,\n",
        "            input_shape=[],\n",
        "            dtype=tf.string,\n",
        "            name=\"embedding\",\n",
        "        ),\n",
        "        tf_keras.layers.Dense(\n",
        "            32,\n",
        "            activation=tf_keras.activations.relu,\n",
        "            kernel_regularizer=tf_keras.regularizers.l2(0.01),\n",
        "            name=\"hidden_1\",\n",
        "        ),\n",
        "        tf_keras.layers.Dropout(\n",
        "            0.5,\n",
        "            name=\"dropout_1\",\n",
        "        ),\n",
        "        tf_keras.layers.Dense(\n",
        "            8,\n",
        "            activation=tf_keras.activations.relu,\n",
        "            kernel_regularizer=tf_keras.regularizers.l2(0.01),\n",
        "            name=\"hidden_2\",\n",
        "        ),\n",
        "        tf_keras.layers.Dropout(\n",
        "            0.5,\n",
        "            name=\"dropout_2\",\n",
        "        ),\n",
        "        tf_keras.layers.Dense(\n",
        "            1,\n",
        "            activation=tf_keras.activations.sigmoid,\n",
        "            name=\"output\",\n",
        "        ),\n",
        "    ],\n",
        ")\n",
        "\n",
        "model_rms_prop.summary()"
      ]
    },
    {
      "cell_type": "code",
      "execution_count": 148,
      "id": "83c6a066",
      "metadata": {},
      "outputs": [],
      "source": [
        "model_rms_prop.compile(\n",
        "    optimizer=tf_keras.optimizers.RMSprop(learning_rate=0.01, momentum=0.9, rho=0.9, epsilon=1e-07),\n",
        "    loss=tf.keras.losses.BinaryCrossentropy(from_logits=False),\n",
        "    metrics=[\"accuracy\"],\n",
        ")"
      ]
    },
    {
      "cell_type": "code",
      "execution_count": 149,
      "id": "84fcd355",
      "metadata": {},
      "outputs": [
        {
          "name": "stdout",
          "output_type": "stream",
          "text": [
            "Epoch 1/20\n",
            "35/35 [==============================] - 18s 474ms/step - loss: 0.8216 - accuracy: 0.5324 - val_loss: 0.7025 - val_accuracy: 0.6122\n",
            "Epoch 2/20\n",
            "35/35 [==============================] - 17s 479ms/step - loss: 0.6391 - accuracy: 0.7067 - val_loss: 0.4626 - val_accuracy: 0.8296\n",
            "Epoch 3/20\n",
            "35/35 [==============================] - 16s 454ms/step - loss: 0.5092 - accuracy: 0.7933 - val_loss: 0.4207 - val_accuracy: 0.8475\n",
            "Epoch 4/20\n",
            "35/35 [==============================] - 16s 464ms/step - loss: 0.4678 - accuracy: 0.8194 - val_loss: 0.3557 - val_accuracy: 0.8827\n",
            "Epoch 5/20\n",
            "35/35 [==============================] - 16s 463ms/step - loss: 0.4598 - accuracy: 0.8270 - val_loss: 0.3755 - val_accuracy: 0.8896\n",
            "Epoch 6/20\n",
            "35/35 [==============================] - 16s 470ms/step - loss: 0.4476 - accuracy: 0.8354 - val_loss: 0.4687 - val_accuracy: 0.8456\n",
            "Epoch 7/20\n",
            "35/35 [==============================] - 16s 456ms/step - loss: 0.4312 - accuracy: 0.8436 - val_loss: 0.3346 - val_accuracy: 0.8899\n",
            "Epoch 8/20\n",
            "35/35 [==============================] - 17s 499ms/step - loss: 0.3997 - accuracy: 0.8565 - val_loss: 0.3555 - val_accuracy: 0.8893\n",
            "Epoch 9/20\n",
            "35/35 [==============================] - 17s 480ms/step - loss: 0.4333 - accuracy: 0.8494 - val_loss: 0.5018 - val_accuracy: 0.8259\n",
            "Epoch 10/20\n",
            "35/35 [==============================] - 16s 465ms/step - loss: 0.4047 - accuracy: 0.8578 - val_loss: 0.3402 - val_accuracy: 0.8922\n",
            "Epoch 11/20\n",
            "35/35 [==============================] - 17s 480ms/step - loss: 0.3979 - accuracy: 0.8585 - val_loss: 0.4502 - val_accuracy: 0.8366\n"
          ]
        }
      ],
      "source": [
        "##---------Type the code below this line------------------##\n",
        "\n",
        "# Early stop\n",
        "early_stopping = tf_keras.callbacks.EarlyStopping(\n",
        "    # Maximum time it is allowed val_loss to be deteriorated\n",
        "    patience=4,\n",
        "    # used to restore the model weights from the best value observed epoch\n",
        "    restore_best_weights=True,\n",
        ")\n",
        "\n",
        "\n",
        "history_rms_prop = model_rms_prop.fit(\n",
        "    X_train,\n",
        "    y_train,\n",
        "    validation_data=(X_validation, y_validation),\n",
        "    epochs=20,\n",
        "    batch_size=1000,\n",
        "    callbacks=[early_stopping],\n",
        "    verbose=1,\n",
        ")"
      ]
    },
    {
      "cell_type": "markdown",
      "id": "e330e3a0",
      "metadata": {},
      "source": [
        "## 10.2. Adam with your choice of hyper parameters\n"
      ]
    },
    {
      "cell_type": "code",
      "execution_count": 150,
      "id": "a48923f1",
      "metadata": {},
      "outputs": [
        {
          "name": "stdout",
          "output_type": "stream",
          "text": [
            "Model: \"sequential_17\"\n",
            "_________________________________________________________________\n",
            " Layer (type)                Output Shape              Param #   \n",
            "=================================================================\n",
            " embedding (KerasLayer)      (None, 128)               124642688 \n",
            "                                                                 \n",
            " hidden_1 (Dense)            (None, 32)                4128      \n",
            "                                                                 \n",
            " dropout_1 (Dropout)         (None, 32)                0         \n",
            "                                                                 \n",
            " hidden_2 (Dense)            (None, 8)                 264       \n",
            "                                                                 \n",
            " dropout_2 (Dropout)         (None, 8)                 0         \n",
            "                                                                 \n",
            " output (Dense)              (None, 1)                 9         \n",
            "                                                                 \n",
            "=================================================================\n",
            "Total params: 124647089 (475.49 MB)\n",
            "Trainable params: 124647089 (475.49 MB)\n",
            "Non-trainable params: 0 (0.00 Byte)\n",
            "_________________________________________________________________\n"
          ]
        }
      ],
      "source": [
        "##---------Type the code below this line------------------##\n",
        "\n",
        "model_adam = tf_keras.Sequential(\n",
        "    [\n",
        "        # hub layer raises an error due to backward compatibility: https://github.com/tensorflow/tensorflow/issues/63085#issuecomment-2303851416\n",
        "        # The tensorflow and keras library versions were downgraded because of this.\n",
        "        # The second option is to use Lambda layer wrapper around hub layer\n",
        "        # but that stops showing params and output shape in summary\n",
        "        tf_hub.KerasLayer(\n",
        "            \"https://tfhub.dev/google/nnlm-en-dim128-with-normalization/2\",\n",
        "            trainable=True,\n",
        "            input_shape=[],\n",
        "            dtype=tf.string,\n",
        "            name=\"embedding\",\n",
        "        ),\n",
        "        tf_keras.layers.Dense(\n",
        "            32,\n",
        "            activation=tf_keras.activations.relu,\n",
        "            kernel_regularizer=tf_keras.regularizers.l2(0.01),\n",
        "            name=\"hidden_1\",\n",
        "        ),\n",
        "        tf_keras.layers.Dropout(\n",
        "            0.5,\n",
        "            name=\"dropout_1\",\n",
        "        ),\n",
        "        tf_keras.layers.Dense(\n",
        "            8,\n",
        "            activation=tf_keras.activations.relu,\n",
        "            kernel_regularizer=tf_keras.regularizers.l2(0.01),\n",
        "            name=\"hidden_2\",\n",
        "        ),\n",
        "        tf_keras.layers.Dropout(\n",
        "            0.5,\n",
        "            name=\"dropout_2\",\n",
        "        ),\n",
        "        tf_keras.layers.Dense(\n",
        "            1,\n",
        "            activation=tf_keras.activations.sigmoid,\n",
        "            name=\"output\",\n",
        "        ),\n",
        "    ],\n",
        ")\n",
        "\n",
        "model_adam.summary()"
      ]
    },
    {
      "cell_type": "code",
      "execution_count": 151,
      "id": "69416976",
      "metadata": {},
      "outputs": [],
      "source": [
        "model_adam.compile(\n",
        "    optimizer=tf_keras.optimizers.Adam(learning_rate=0.01, beta_1=0.9, beta_2=0.999, epsilon=1e-07, amsgrad=True),\n",
        "    loss=tf.keras.losses.BinaryCrossentropy(from_logits=False),\n",
        "    metrics=[\"accuracy\"],\n",
        ")"
      ]
    },
    {
      "cell_type": "code",
      "execution_count": 152,
      "id": "367b6b61",
      "metadata": {},
      "outputs": [
        {
          "name": "stdout",
          "output_type": "stream",
          "text": [
            "Epoch 1/20\n",
            "35/35 [==============================] - 22s 593ms/step - loss: 0.7612 - accuracy: 0.6898 - val_loss: 0.4036 - val_accuracy: 0.8854\n",
            "Epoch 2/20\n",
            "35/35 [==============================] - 18s 516ms/step - loss: 0.3673 - accuracy: 0.8988 - val_loss: 0.2971 - val_accuracy: 0.8965\n",
            "Epoch 3/20\n",
            "35/35 [==============================] - 19s 555ms/step - loss: 0.2468 - accuracy: 0.9457 - val_loss: 0.2940 - val_accuracy: 0.9044\n",
            "Epoch 4/20\n",
            "35/35 [==============================] - 19s 540ms/step - loss: 0.1903 - accuracy: 0.9646 - val_loss: 0.3493 - val_accuracy: 0.9021\n",
            "Epoch 5/20\n",
            "35/35 [==============================] - 19s 536ms/step - loss: 0.1580 - accuracy: 0.9726 - val_loss: 0.3847 - val_accuracy: 0.8970\n",
            "Epoch 6/20\n",
            "35/35 [==============================] - 22s 618ms/step - loss: 0.1347 - accuracy: 0.9767 - val_loss: 0.4120 - val_accuracy: 0.8977\n",
            "Epoch 7/20\n",
            "35/35 [==============================] - 19s 556ms/step - loss: 0.1201 - accuracy: 0.9810 - val_loss: 0.4840 - val_accuracy: 0.8970\n"
          ]
        }
      ],
      "source": [
        "##---------Type the code below this line------------------##\n",
        "\n",
        "# Early stop\n",
        "early_stopping = tf_keras.callbacks.EarlyStopping(\n",
        "    # Maximum time it is allowed val_loss to be deteriorated\n",
        "    patience=4,\n",
        "    # used to restore the model weights from the best value observed epoch\n",
        "    restore_best_weights=True,\n",
        ")\n",
        "\n",
        "\n",
        "history_adam = model_adam.fit(\n",
        "    X_train,\n",
        "    y_train,\n",
        "    validation_data=(X_validation, y_validation),\n",
        "    epochs=20,\n",
        "    batch_size=1000,\n",
        "    callbacks=[early_stopping],\n",
        "    verbose=1,\n",
        ")"
      ]
    },
    {
      "cell_type": "markdown",
      "id": "493163cd",
      "metadata": {},
      "source": [
        "## 10.3. Plot the comparison of the training and validation accuracy of the three (4.1, 10.1 and 10.2)\n"
      ]
    },
    {
      "cell_type": "code",
      "execution_count": null,
      "id": "9bf06eb1",
      "metadata": {
        "id": "9bf06eb1"
      },
      "outputs": [
        {
          "data": {
            "image/png": "[encoded data removed]",
            "text/plain": [
              "<Figure size 800x500 with 1 Axes>"
            ]
          },
          "metadata": {},
          "output_type": "display_data"
        }
      ],
      "source": [
        "##---------Type the code below this line------------------##\n",
        "\n",
        "train_accuracy = history.history[\"accuracy\"]\n",
        "validation_accuracy = history.history[\"val_accuracy\"]\n",
        "\n",
        "train_accuracy_rms_prop = history_rms_prop.history[\"accuracy\"]\n",
        "validation_accuracy_rms_prop = history_rms_prop.history[\"val_accuracy\"]\n",
        "\n",
        "train_accuracy_adam = history_adam.history[\"accuracy\"]\n",
        "validation_accuracy_adam = history_adam.history[\"val_accuracy\"]\n",
        "\n",
        "\n",
        "plt.figure(figsize=(8, 5), dpi=100)\n",
        "\n",
        "# Use different colors and styles for each model\n",
        "# Use dashed lines for training accuracy and solid lines for validation accuracy\n",
        "plt.plot(range(1, len(train_accuracy) + 1), train_accuracy, \"b--\", label=\"Training Accuracy\")\n",
        "plt.plot(range(1, len(validation_accuracy) + 1), validation_accuracy, \"b\", label=\"Validation Accuracy\")\n",
        "\n",
        "plt.plot(\n",
        "    range(1, len(train_accuracy_rms_prop) + 1), train_accuracy_rms_prop, \"g--\", label=\"Training Accuracy (RMSProp)\"\n",
        ")\n",
        "plt.plot(\n",
        "    range(1, len(validation_accuracy_rms_prop) + 1),\n",
        "    validation_accuracy_rms_prop,\n",
        "    \"g\",\n",
        "    label=\"Validation Accuracy (RMSProp)\",\n",
        ")\n",
        "\n",
        "plt.plot(\n",
        "    range(1, len(train_accuracy_adam) + 1),\n",
        "    train_accuracy_adam,\n",
        "    \"r--\",\n",
        "    label=\"Training Accuracy (Adam)\",\n",
        ")\n",
        "plt.plot(\n",
        "    range(1, len(validation_accuracy_adam) + 1),\n",
        "    validation_accuracy_adam,\n",
        "    \"r\",\n",
        "    label=\"Validation Accuracy (Adam)\",\n",
        ")\n",
        "\n",
        "plt.xlabel(\"Epochs\")\n",
        "plt.ylabel(\"Accuracy\")\n",
        "\n",
        "plt.legend(loc=(1.05, 0))\n",
        "plt.title(\"Training and Validation Accuracy\")\n",
        "\n",
        "plt.show()"
      ]
    },
    {
      "cell_type": "markdown",
      "id": "7c7522aa",
      "metadata": {
        "id": "7c7522aa"
      },
      "source": [
        "# 11. Conclusion - Score: 1 mark\n",
        "\n",
        "Comparing the sections 4.1, 5.2, 8, 9, and 10, present your observations on which model or architecture or regualiser or optimiser perfomed better.\n"
      ]
    },
    {
      "cell_type": "markdown",
      "id": "YnVrE2rk9Tjc",
      "metadata": {
        "id": "YnVrE2rk9Tjc"
      },
      "source": [
        "**Conclusion:**\n",
        "\n",
        "- From the first comparison it is clear that the base model is complex and a simple model with one less layer performs better.\n",
        "- The dropout ratio of 0.25 with L2 regularization / just dropout of 0.25performed better than the base model. Possibly the higher value of dropout ratio in the base model is causing the model to underfit.\n",
        "- The base model with SGD was effective, but Adam showed faster convergence.\n",
        "- From this we should try to use Adam with a lower learning rate to converge faster for the first few iterations and then switch to SGD for fine-tuning the model.\n",
        "- The model architecture should be simplified and the dropout ratio should be reduced to 0.25 with L2 regularization to improve performance.\n"
      ]
    },
    {
      "cell_type": "code",
      "execution_count": 154,
      "id": "c4f55dcd",
      "metadata": {},
      "outputs": [
        {
          "name": "stdout",
          "output_type": "stream",
          "text": [
            "Model: \"sequential_18\"\n",
            "_________________________________________________________________\n",
            " Layer (type)                Output Shape              Param #   \n",
            "=================================================================\n",
            " embedding (KerasLayer)      (None, 128)               124642688 \n",
            "                                                                 \n",
            " hidden_1 (Dense)            (None, 32)                4128      \n",
            "                                                                 \n",
            " dropout_1 (Dropout)         (None, 32)                0         \n",
            "                                                                 \n",
            " output (Dense)              (None, 1)                 33        \n",
            "                                                                 \n",
            "=================================================================\n",
            "Total params: 124646849 (475.49 MB)\n",
            "Trainable params: 124646849 (475.49 MB)\n",
            "Non-trainable params: 0 (0.00 Byte)\n",
            "_________________________________________________________________\n"
          ]
        }
      ],
      "source": [
        "##---------Type the code below this line------------------##\n",
        "\n",
        "model_final = tf_keras.Sequential(\n",
        "    [\n",
        "        # hub layer raises an error due to backward compatibility: https://github.com/tensorflow/tensorflow/issues/63085#issuecomment-2303851416\n",
        "        # The tensorflow and keras library versions were downgraded because of this.\n",
        "        # The second option is to use Lambda layer wrapper around hub layer\n",
        "        # but that stops showing params and output shape in summary\n",
        "        tf_hub.KerasLayer(\n",
        "            \"https://tfhub.dev/google/nnlm-en-dim128-with-normalization/2\",\n",
        "            trainable=True,\n",
        "            input_shape=[],\n",
        "            dtype=tf.string,\n",
        "            name=\"embedding\",\n",
        "        ),\n",
        "        tf_keras.layers.Dense(\n",
        "            32,\n",
        "            activation=tf_keras.activations.relu,\n",
        "            kernel_regularizer=tf_keras.regularizers.l2(0.0001),\n",
        "            name=\"hidden_1\",\n",
        "        ),\n",
        "        tf_keras.layers.Dropout(\n",
        "            0.25,\n",
        "            name=\"dropout_1\",\n",
        "        ),\n",
        "        tf_keras.layers.Dense(\n",
        "            1,\n",
        "            activation=tf_keras.activations.sigmoid,\n",
        "            name=\"output\",\n",
        "        ),\n",
        "    ],\n",
        ")\n",
        "\n",
        "model_final.summary()"
      ]
    },
    {
      "cell_type": "code",
      "execution_count": 155,
      "id": "676283ec",
      "metadata": {},
      "outputs": [
        {
          "name": "stdout",
          "output_type": "stream",
          "text": [
            "Epoch 1/20\n",
            "35/35 [==============================] - 24s 609ms/step - loss: 0.6144 - accuracy: 0.6836 - val_loss: 0.4761 - val_accuracy: 0.8252\n",
            "Epoch 2/20\n",
            "35/35 [==============================] - 17s 498ms/step - loss: 0.3790 - accuracy: 0.8596 - val_loss: 0.3028 - val_accuracy: 0.8888\n",
            "Epoch 3/20\n",
            "35/35 [==============================] - 17s 488ms/step - loss: 0.2383 - accuracy: 0.9131 - val_loss: 0.2523 - val_accuracy: 0.9048\n",
            "Epoch 4/20\n",
            "35/35 [==============================] - 19s 548ms/step - loss: 0.1656 - accuracy: 0.9447 - val_loss: 0.2390 - val_accuracy: 0.9087\n",
            "Epoch 5/20\n",
            "35/35 [==============================] - 19s 538ms/step - loss: 0.1190 - accuracy: 0.9657 - val_loss: 0.2403 - val_accuracy: 0.9092\n",
            "Epoch 6/20\n",
            "35/35 [==============================] - 19s 557ms/step - loss: 0.0842 - accuracy: 0.9794 - val_loss: 0.2520 - val_accuracy: 0.9082\n",
            "Epoch 7/20\n",
            "35/35 [==============================] - 18s 516ms/step - loss: 0.0604 - accuracy: 0.9879 - val_loss: 0.2727 - val_accuracy: 0.9048\n",
            "Epoch 8/20\n",
            "35/35 [==============================] - 19s 539ms/step - loss: 0.0453 - accuracy: 0.9931 - val_loss: 0.2890 - val_accuracy: 0.9032\n"
          ]
        }
      ],
      "source": [
        "model_final.compile(\n",
        "    optimizer=tf_keras.optimizers.Adam(learning_rate=0.001, beta_1=0.9, beta_2=0.999, epsilon=1e-07, amsgrad=True),\n",
        "    loss=tf.keras.losses.BinaryCrossentropy(from_logits=False),\n",
        "    metrics=[\"accuracy\"],\n",
        ")\n",
        "\n",
        "# Early stop\n",
        "early_stopping = tf_keras.callbacks.EarlyStopping(\n",
        "    # Maximum time it is allowed val_loss to be deteriorated\n",
        "    patience=4,\n",
        "    # used to restore the model weights from the best value observed epoch\n",
        "    restore_best_weights=True,\n",
        ")\n",
        "\n",
        "\n",
        "history_final_1 = model_final.fit(\n",
        "    X_train,\n",
        "    y_train,\n",
        "    validation_data=(X_validation, y_validation),\n",
        "    epochs=20,\n",
        "    batch_size=1000,\n",
        "    callbacks=[early_stopping],\n",
        "    verbose=1,\n",
        ")"
      ]
    },
    {
      "cell_type": "code",
      "execution_count": 157,
      "id": "cd442cd0",
      "metadata": {},
      "outputs": [
        {
          "name": "stdout",
          "output_type": "stream",
          "text": [
            "Epoch 1/20\n",
            "70/70 [==============================] - 18s 250ms/step - loss: 0.1237 - accuracy: 0.9653 - val_loss: 0.2377 - val_accuracy: 0.9094\n",
            "Epoch 2/20\n",
            "70/70 [==============================] - 17s 240ms/step - loss: 0.1225 - accuracy: 0.9640 - val_loss: 0.2379 - val_accuracy: 0.9083\n",
            "Epoch 3/20\n",
            "70/70 [==============================] - 17s 242ms/step - loss: 0.1213 - accuracy: 0.9630 - val_loss: 0.2383 - val_accuracy: 0.9083\n",
            "Epoch 4/20\n",
            "70/70 [==============================] - 17s 238ms/step - loss: 0.1204 - accuracy: 0.9639 - val_loss: 0.2388 - val_accuracy: 0.9084\n",
            "Epoch 5/20\n",
            "70/70 [==============================] - 18s 260ms/step - loss: 0.1190 - accuracy: 0.9649 - val_loss: 0.2397 - val_accuracy: 0.9091\n"
          ]
        }
      ],
      "source": [
        "model_final.compile(\n",
        "    optimizer=tf_keras.optimizers.SGD(learning_rate=0.01),\n",
        "    loss=tf.keras.losses.BinaryCrossentropy(from_logits=False),\n",
        "    metrics=[\"accuracy\"],\n",
        ")\n",
        "\n",
        "# Early stop\n",
        "early_stopping = tf_keras.callbacks.EarlyStopping(\n",
        "    # Maximum time it is allowed val_loss to be deteriorated\n",
        "    patience=4,\n",
        "    # used to restore the model weights from the best value observed epoch\n",
        "    restore_best_weights=True,\n",
        ")\n",
        "\n",
        "\n",
        "history_final_2 = model_final.fit(\n",
        "    X_train,\n",
        "    y_train,\n",
        "    validation_data=(X_validation, y_validation),\n",
        "    epochs=20,\n",
        "    batch_size=500,\n",
        "    callbacks=[early_stopping],\n",
        "    verbose=1,\n",
        ")"
      ]
    },
    {
      "cell_type": "code",
      "execution_count": 158,
      "id": "712c1250",
      "metadata": {},
      "outputs": [
        {
          "data": {
            "image/png": "[encoded data removed]",
            "text/plain": [
              "<Figure size 800x500 with 1 Axes>"
            ]
          },
          "metadata": {},
          "output_type": "display_data"
        }
      ],
      "source": [
        "train_accuracy_final = [*history_final_1.history[\"accuracy\"], *history_final_2.history[\"accuracy\"]]\n",
        "validation_accuracy_final = [*history_final_1.history[\"val_accuracy\"], *history_final_2.history[\"val_accuracy\"]]\n",
        "\n",
        "\n",
        "plt.figure(figsize=(8, 5), dpi=100)\n",
        "plt.plot(range(1, len(train_accuracy_final) + 1), train_accuracy_final, label=\"Training Accuracy\", color=\"b\")\n",
        "plt.plot(\n",
        "    range(1, len(validation_accuracy_final) + 1), validation_accuracy_final, label=\"Validation Accuracy\", color=\"r\"\n",
        ")\n",
        "\n",
        "plt.xlabel(\"Epochs\")\n",
        "plt.ylabel(\"Accuracy\")\n",
        "\n",
        "plt.legend()\n",
        "plt.title(\"Training and Validation Accuracy\")\n",
        "\n",
        "plt.show()"
      ]
    },
    {
      "cell_type": "code",
      "execution_count": 159,
      "id": "b1705346",
      "metadata": {},
      "outputs": [
        {
          "data": {
            "image/png": "[encoded data removed]",
            "text/plain": [
              "<Figure size 800x500 with 1 Axes>"
            ]
          },
          "metadata": {},
          "output_type": "display_data"
        }
      ],
      "source": [
        "train_loss_final = [*history_final_1.history[\"loss\"], *history_final_2.history[\"loss\"]]\n",
        "validation_loss_final = [*history_final_1.history[\"val_loss\"], *history_final_2.history[\"val_loss\"]]\n",
        "\n",
        "plt.figure(figsize=(8, 5), dpi=100)\n",
        "plt.plot(range(1, len(train_loss_final) + 1), train_loss_final, label=\"Training Loss\", color=\"b\")\n",
        "plt.plot(range(1, len(validation_loss_final) + 1), validation_loss_final, label=\"Validation Loss\", color=\"r\")\n",
        "\n",
        "plt.xlabel(\"Epochs\")\n",
        "plt.ylabel(\"Loss\")\n",
        "\n",
        "plt.legend()\n",
        "plt.title(\"Training and Validation Loss\")\n",
        "\n",
        "plt.show()"
      ]
    },
    {
      "cell_type": "code",
      "execution_count": 160,
      "id": "52b67426",
      "metadata": {},
      "outputs": [
        {
          "name": "stdout",
          "output_type": "stream",
          "text": [
            "Test Loss: 0.2466, Test Accuracy: 0.9035\n"
          ]
        }
      ],
      "source": [
        "loss, accuracy = model_final.evaluate(X_test, y_test, verbose=0)\n",
        "print(f\"Test Loss: {loss:.4f}, Test Accuracy: {accuracy:.4f}\")"
      ]
    },
    {
      "cell_type": "code",
      "execution_count": 161,
      "id": "70765594",
      "metadata": {},
      "outputs": [
        {
          "name": "stdout",
          "output_type": "stream",
          "text": [
            "233/233 [==============================] - 12s 53ms/step\n"
          ]
        },
        {
          "data": {
            "image/png": "[encoded data removed]",
            "text/plain": [
              "<Figure size 800x600 with 2 Axes>"
            ]
          },
          "metadata": {},
          "output_type": "display_data"
        }
      ],
      "source": [
        "y_prob = model_final.predict(X_test).flatten()\n",
        "y_pred = (y_prob > 0.5).astype(int)\n",
        "cm = confusion_matrix(y_true=y_test, y_pred=y_pred)\n",
        "\n",
        "plt.figure(figsize=(8, 6), dpi=100)\n",
        "sns.heatmap(\n",
        "    cm,\n",
        "    annot=True,\n",
        "    fmt=\"d\",\n",
        ")\n",
        "\n",
        "plt.title(\"Confusion Matrix\")\n",
        "plt.xlabel(\"Predicted Label\")\n",
        "plt.ylabel(\"True Label\")\n",
        "\n",
        "plt.show()"
      ]
    },
    {
      "cell_type": "code",
      "execution_count": 164,
      "id": "c5ae0020",
      "metadata": {},
      "outputs": [
        {
          "name": "stdout",
          "output_type": "stream",
          "text": [
            "Accuracy: 0.9035\n",
            "Precision: 0.8977\n",
            "Recall: 0.9080\n",
            "F1 Score: 0.9028\n"
          ]
        }
      ],
      "source": [
        "accuracy = accuracy_score(y_true=y_test, y_pred=y_pred)\n",
        "precision = precision_score(y_true=y_test, y_pred=y_pred)\n",
        "recall = recall_score(y_true=y_test, y_pred=y_pred)\n",
        "f1_score_ = f1_score(y_true=y_test, y_pred=y_pred)\n",
        "\n",
        "print(f\"Accuracy: {accuracy:.4f}\")\n",
        "print(f\"Precision: {precision:.4f}\")\n",
        "print(f\"Recall: {recall:.4f}\")\n",
        "print(f\"F1 Score: {f1_score_:.4f}\")"
      ]
    },
    {
      "cell_type": "markdown",
      "id": "RcDDQlfbZQ7E",
      "metadata": {
        "id": "RcDDQlfbZQ7E"
      },
      "source": [
        "### NOTE\n",
        "\n",
        "All Late Submissions will incur a <b>penalty of -2 marks </b>. So submit your assignments on time.\n",
        "\n",
        "Good Luck\n"
      ]
    }
  ],
  "metadata": {
    "accelerator": "GPU",
    "colab": {
      "gpuType": "T4",
      "provenance": []
    },
    "kernelspec": {
      "display_name": ".venv",
      "language": "python",
      "name": "python3"
    },
    "language_info": {
      "codemirror_mode": {
        "name": "ipython",
        "version": 3
      },
      "file_extension": ".py",
      "mimetype": "text/x-python",
      "name": "python",
      "nbconvert_exporter": "python",
      "pygments_lexer": "ipython3",
      "version": "3.10.14"
    }
  },
  "nbformat": 4,
  "nbformat_minor": 5
}
