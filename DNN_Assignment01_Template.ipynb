{
 "cells": [
  {
   "cell_type": "markdown",
   "id": "9bda93ba",
   "metadata": {
    "id": "9bda93ba"
   },
   "source": [
    "## Group No 44\n",
    "\n",
    "## Group Member Names:\n",
    "\n",
    "1. BEDANTA BIKASH DUTTA (2024AA05186)\n",
    "2. LELLA NIKHILESWAR (2024AA05976)\n",
    "3. NIRMAL J (2024AA05189)\n",
    "4. PRANAV DUBEY (2024AA05660)\n"
   ]
  },
  {
   "cell_type": "markdown",
   "id": "bec56339",
   "metadata": {},
   "source": [
    "# 1. Import the required libraries\n"
   ]
  },
  {
   "cell_type": "code",
   "execution_count": 1,
   "id": "46631608",
   "metadata": {},
   "outputs": [
    {
     "name": "stderr",
     "output_type": "stream",
     "text": [
      "c:\\Users\\sesa682918\\Code\\wilp-programs\\natural-language-processing\\.venv\\Lib\\site-packages\\tensorflow_hub\\__init__.py:61: UserWarning: pkg_resources is deprecated as an API. See https://setuptools.pypa.io/en/latest/pkg_resources.html. The pkg_resources package is slated for removal as early as 2025-11-30. Refrain from using this package or pin to Setuptools<81.\n",
      "  from pkg_resources import parse_version\n"
     ]
    },
    {
     "name": "stdout",
     "output_type": "stream",
     "text": [
      "WARNING:tensorflow:From c:\\Users\\sesa682918\\Code\\wilp-programs\\natural-language-processing\\.venv\\Lib\\site-packages\\tf_keras\\src\\losses.py:2976: The name tf.losses.sparse_softmax_cross_entropy is deprecated. Please use tf.compat.v1.losses.sparse_softmax_cross_entropy instead.\n",
      "\n"
     ]
    }
   ],
   "source": [
    "##---------Type the code below this line------------------##\n",
    "\n",
    "import numpy as np\n",
    "import pandas as pd\n",
    "import matplotlib.pyplot as plt\n",
    "import tensorflow as tf\n",
    "from tensorflow.keras.datasets import imdb\n",
    "from tensorflow.keras.preprocessing.sequence import pad_sequences\n",
    "from sklearn.model_selection import train_test_split\n",
    "from tensorflow.keras.models import Sequential\n",
    "from tensorflow.keras.layers import Dense, Dropout, Input, Embedding, GlobalAveragePooling1D\n",
    "from tensorflow.keras.optimizers import SGD\n",
    "from sklearn.metrics import classification_report, confusion_matrix\n",
    "from tensorflow.keras import regularizers\n",
    "from tensorflow.keras.optimizers import Adam, SGD, RMSprop, Adam\n",
    "from sklearn.metrics import (\n",
    "    accuracy_score,\n",
    "    precision_score,\n",
    "    recall_score,\n",
    "    f1_score,\n",
    "    classification_report,\n",
    "    confusion_matrix,\n",
    "    roc_curve,\n",
    "    auc,\n",
    "    log_loss,\n",
    "    precision_recall_curve,\n",
    ")\n",
    "import time\n",
    "from typing import cast\n",
    "\n",
    "import tensorflow as tf\n",
    "import tensorflow_datasets as tfds\n",
    "import seaborn as sns\n",
    "import tensorflow_hub as hub"
   ]
  },
  {
   "cell_type": "markdown",
   "id": "3cc8e0cb",
   "metadata": {
    "id": "3cc8e0cb"
   },
   "source": [
    "# 2. Data Acquisition -- Score: 0.5 Mark\n",
    "\n",
    "For the problem identified by you, students have to find the data source themselves from any data source.\n",
    "\n",
    "## 2.1 Code for converting the above downloaded data into a form suitable for DL\n"
   ]
  },
  {
   "cell_type": "code",
   "execution_count": 2,
   "id": "4b51d895",
   "metadata": {
    "id": "4b51d895"
   },
   "outputs": [],
   "source": [
    "##---------Type the code below this line------------------##\n",
    "\n",
    "train_ds, test_ds = tfds.load(\n",
    "    # Name of the dataset to load\n",
    "    name=\"imdb_reviews\",\n",
    "    # By default there are 3 splits available train, test and unsupervised\n",
    "    # We don't need the unsupervised set. For that purpose use split parameter\n",
    "    split=[\"train\", \"test\"],\n",
    ")\n",
    "\n",
    "# Convert the dataset to pandas DataFrame\n",
    "\n",
    "train_df = tfds.as_dataframe(train_ds)\n",
    "test_df = tfds.as_dataframe(test_ds)\n",
    "\n",
    "imdb_reviews_df = pd.concat([train_df, test_df], ignore_index=True)"
   ]
  },
  {
   "cell_type": "code",
   "execution_count": 3,
   "id": "bd2579c6",
   "metadata": {},
   "outputs": [
    {
     "name": "stdout",
     "output_type": "stream",
     "text": [
      "<class 'pandas.core.frame.DataFrame'>\n",
      "RangeIndex: 50000 entries, 0 to 49999\n",
      "Data columns (total 2 columns):\n",
      " #   Column  Non-Null Count  Dtype \n",
      "---  ------  --------------  ----- \n",
      " 0   label   50000 non-null  int64 \n",
      " 1   text    50000 non-null  object\n",
      "dtypes: int64(1), object(1)\n",
      "memory usage: 781.4+ KB\n"
     ]
    }
   ],
   "source": [
    "imdb_reviews_df.info()"
   ]
  },
  {
   "cell_type": "code",
   "execution_count": 4,
   "id": "65dc8c5a",
   "metadata": {},
   "outputs": [
    {
     "data": {
      "application/vnd.microsoft.datawrangler.viewer.v0+json": {
       "columns": [
        {
         "name": "index",
         "rawType": "int64",
         "type": "integer"
        },
        {
         "name": "label",
         "rawType": "int64",
         "type": "integer"
        },
        {
         "name": "text",
         "rawType": "object",
         "type": "unknown"
        }
       ],
       "ref": "c7d7beab-f900-4861-88cf-e6b089f9dea7",
       "rows": [
        [
         "0",
         "0",
         "b\"This was an absolutely terrible movie. Don't be lured in by Christopher Walken or Michael Ironside. Both are great actors, but this must simply be their worst role in history. Even their great acting could not redeem this movie's ridiculous storyline. This movie is an early nineties US propaganda piece. The most pathetic scenes were those when the Columbian rebels were making their cases for revolutions. Maria Conchita Alonso appeared phony, and her pseudo-love affair with Walken was nothing but a pathetic emotional plug in a movie that was devoid of any real meaning. I am disappointed that there are movies like this, ruining actor's like Christopher Walken's good name. I could barely sit through it.\""
        ],
        [
         "1",
         "0",
         "b'I have been known to fall asleep during films, but this is usually due to a combination of things including, really tired, being warm and comfortable on the sette and having just eaten a lot. However on this occasion I fell asleep because the film was rubbish. The plot development was constant. Constantly slow and boring. Things seemed to happen, but with no explanation of what was causing them or why. I admit, I may have missed part of the film, but i watched the majority of it and everything just seemed to happen of its own accord without any real concern for anything else. I cant recommend this film at all.'"
        ],
        [
         "2",
         "0",
         "b'Mann photographs the Alberta Rocky Mountains in a superb fashion, and Jimmy Stewart and Walter Brennan give enjoyable performances as they always seem to do. <br /><br />But come on Hollywood - a Mountie telling the people of Dawson City, Yukon to elect themselves a marshal (yes a marshal!) and to enforce the law themselves, then gunfighters battling it out on the streets for control of the town? <br /><br />Nothing even remotely resembling that happened on the Canadian side of the border during the Klondike gold rush. Mr. Mann and company appear to have mistaken Dawson City for Deadwood, the Canadian North for the American Wild West.<br /><br />Canadian viewers be prepared for a Reefer Madness type of enjoyable howl with this ludicrous plot, or, to shake your head in disgust.'"
        ],
        [
         "3",
         "1",
         "b'This is the kind of film for a snowy Sunday afternoon when the rest of the world can go ahead with its own business as you descend into a big arm-chair and mellow for a couple of hours. Wonderful performances from Cher and Nicolas Cage (as always) gently row the plot along. There are no rapids to cross, no dangerous waters, just a warm and witty paddle through New York life at its best. A family film in every sense and one that deserves the praise it received.'"
        ],
        [
         "4",
         "1",
         "b'As others have mentioned, all the women that go nude in this film are mostly absolutely gorgeous. The plot very ably shows the hypocrisy of the female libido. When men are around they want to be pursued, but when no \"men\" are around, they become the pursuers of a 14 year old boy. And the boy becomes a man really fast (we should all be so lucky at this age!). He then gets up the courage to pursue his true love.'"
        ]
       ],
       "shape": {
        "columns": 2,
        "rows": 5
       }
      },
      "text/html": [
       "<div>\n",
       "<style scoped>\n",
       "    .dataframe tbody tr th:only-of-type {\n",
       "        vertical-align: middle;\n",
       "    }\n",
       "\n",
       "    .dataframe tbody tr th {\n",
       "        vertical-align: top;\n",
       "    }\n",
       "\n",
       "    .dataframe thead th {\n",
       "        text-align: right;\n",
       "    }\n",
       "</style>\n",
       "<table border=\"1\" class=\"dataframe\">\n",
       "  <thead>\n",
       "    <tr style=\"text-align: right;\">\n",
       "      <th></th>\n",
       "      <th>label</th>\n",
       "      <th>text</th>\n",
       "    </tr>\n",
       "  </thead>\n",
       "  <tbody>\n",
       "    <tr>\n",
       "      <th>0</th>\n",
       "      <td>0</td>\n",
       "      <td>b\"This was an absolutely terrible movie. Don't...</td>\n",
       "    </tr>\n",
       "    <tr>\n",
       "      <th>1</th>\n",
       "      <td>0</td>\n",
       "      <td>b'I have been known to fall asleep during film...</td>\n",
       "    </tr>\n",
       "    <tr>\n",
       "      <th>2</th>\n",
       "      <td>0</td>\n",
       "      <td>b'Mann photographs the Alberta Rocky Mountains...</td>\n",
       "    </tr>\n",
       "    <tr>\n",
       "      <th>3</th>\n",
       "      <td>1</td>\n",
       "      <td>b'This is the kind of film for a snowy Sunday ...</td>\n",
       "    </tr>\n",
       "    <tr>\n",
       "      <th>4</th>\n",
       "      <td>1</td>\n",
       "      <td>b'As others have mentioned, all the women that...</td>\n",
       "    </tr>\n",
       "  </tbody>\n",
       "</table>\n",
       "</div>"
      ],
      "text/plain": [
       "   label                                               text\n",
       "0      0  b\"This was an absolutely terrible movie. Don't...\n",
       "1      0  b'I have been known to fall asleep during film...\n",
       "2      0  b'Mann photographs the Alberta Rocky Mountains...\n",
       "3      1  b'This is the kind of film for a snowy Sunday ...\n",
       "4      1  b'As others have mentioned, all the women that..."
      ]
     },
     "execution_count": 4,
     "metadata": {},
     "output_type": "execute_result"
    }
   ],
   "source": [
    "imdb_reviews_df.head(5)"
   ]
  },
  {
   "cell_type": "markdown",
   "id": "812edb18",
   "metadata": {
    "id": "812edb18"
   },
   "source": [
    "## 2.1 Write your observations from the above.\n",
    "\n",
    "1. Size of the dataset\n",
    "2. What type of data attributes are there?\n",
    "3. What are you classifying?\n",
    "4. Plot the distribution of the categories of the target / label.\n"
   ]
  },
  {
   "cell_type": "markdown",
   "id": "60d80d2f",
   "metadata": {
    "id": "60d80d2f",
    "vscode": {
     "languageId": "raw"
    }
   },
   "source": [
    "--------------Type the answers below this line--------------\n",
    "\n",
    "1. Size of the dataset\n",
    "\n",
    "   50,000\n",
    "\n",
    "2. What type of data attributes are there?\n",
    "\n",
    "   - text: movie review (string)\n",
    "   - label: sentiment of the review (1/0)\n",
    "\n",
    "3. What are you classifying?\n",
    "\n",
    "   Binary classification of the sentiment of a movie review. 1 if positive 0 if negative\n",
    "\n",
    "4. Plot the distribution of the categories of the target / label.\n"
   ]
  },
  {
   "cell_type": "code",
   "execution_count": 5,
   "id": "dfeaac2c",
   "metadata": {},
   "outputs": [
    {
     "data": {
      "text/plain": [
       "<Figure size 750x750 with 0 Axes>"
      ]
     },
     "metadata": {},
     "output_type": "display_data"
    },
    {
     "data": {
      "image/png": "[encoded data removed]",
      "text/plain": [
       "<Figure size 761.111x500 with 1 Axes>"
      ]
     },
     "metadata": {},
     "output_type": "display_data"
    }
   ],
   "source": [
    "plt.figure(figsize=(5, 5), dpi=150)\n",
    "sns.catplot(data=imdb_reviews_df, x=\"label\", kind=\"count\", height=5, aspect=1.5)\n",
    "plt.title(\"Distribution of Sentiment Labels in IMDB Reviews\", pad=10)\n",
    "plt.show()"
   ]
  },
  {
   "cell_type": "markdown",
   "id": "102e0e36",
   "metadata": {
    "id": "102e0e36"
   },
   "source": [
    "# 3. Data Preparation -- Score: 1 Mark\n",
    "\n",
    "Perform the data prepracessing that is required for the data that you have downloaded.\n",
    "\n",
    "This stage depends on the dataset that is used.\n"
   ]
  },
  {
   "cell_type": "markdown",
   "id": "06fdebf8",
   "metadata": {
    "id": "06fdebf8"
   },
   "source": [
    "## 3.1 Apply pre-processing techiniques\n",
    "\n",
    "- to remove duplicate data\n",
    "- to impute or remove missing data\n",
    "- to remove data inconsistencies\n",
    "- Encode categorical data\n",
    "- Normalize the data\n",
    "- Feature Engineering\n",
    "- Stop word removal, lemmatiation, stemming, vectorization\n",
    "\n",
    "IF ANY\n"
   ]
  },
  {
   "cell_type": "code",
   "execution_count": 6,
   "id": "dd3118eb",
   "metadata": {
    "id": "dd3118eb"
   },
   "outputs": [
    {
     "data": {
      "text/plain": [
       "(49582, 2)"
      ]
     },
     "execution_count": 6,
     "metadata": {},
     "output_type": "execute_result"
    }
   ],
   "source": [
    "##---------Type the code below this line------------------##\n",
    "\n",
    "# Remove duplicates\n",
    "imdb_reviews_df = imdb_reviews_df.drop_duplicates()\n",
    "# Remove NaN values\n",
    "imdb_reviews_df = imdb_reviews_df.dropna()\n",
    "# Reset index after dropping rows\n",
    "imdb_reviews_df = imdb_reviews_df.reset_index(drop=True)\n",
    "# The label is already in binary format, so we don't need to convert it\n",
    "# To convert the text into embeddings we will use a pre trained embedding model\n",
    "# from tensorflow_hub\n",
    "# model_url \"https://tfhub.dev/google/nnlm-en-dim128/2\"\n",
    "# Check the shape of the DataFrame\n",
    "imdb_reviews_df.shape"
   ]
  },
  {
   "cell_type": "code",
   "execution_count": 7,
   "id": "38c9600f",
   "metadata": {},
   "outputs": [
    {
     "name": "stdout",
     "output_type": "stream",
     "text": [
      "WARNING:tensorflow:From c:\\Users\\sesa682918\\Code\\wilp-programs\\natural-language-processing\\.venv\\Lib\\site-packages\\tensorflow_hub\\resolver.py:120: The name tf.gfile.MakeDirs is deprecated. Please use tf.io.gfile.makedirs instead.\n",
      "\n"
     ]
    },
    {
     "name": "stderr",
     "output_type": "stream",
     "text": [
      "WARNING:tensorflow:From c:\\Users\\sesa682918\\Code\\wilp-programs\\natural-language-processing\\.venv\\Lib\\site-packages\\tensorflow_hub\\resolver.py:120: The name tf.gfile.MakeDirs is deprecated. Please use tf.io.gfile.makedirs instead.\n",
      "\n"
     ]
    },
    {
     "name": "stdout",
     "output_type": "stream",
     "text": [
      "WARNING:tensorflow:From c:\\Users\\sesa682918\\Code\\wilp-programs\\natural-language-processing\\.venv\\Lib\\site-packages\\tensorflow_hub\\module_v2.py:126: The name tf.saved_model.load_v2 is deprecated. Please use tf.compat.v2.saved_model.load instead.\n",
      "\n"
     ]
    },
    {
     "name": "stderr",
     "output_type": "stream",
     "text": [
      "WARNING:tensorflow:From c:\\Users\\sesa682918\\Code\\wilp-programs\\natural-language-processing\\.venv\\Lib\\site-packages\\tensorflow_hub\\module_v2.py:126: The name tf.saved_model.load_v2 is deprecated. Please use tf.compat.v2.saved_model.load instead.\n",
      "\n"
     ]
    },
    {
     "data": {
      "text/plain": [
       "<tf.Tensor: shape=(1, 128), dtype=float32, numpy=\n",
       "array([[ 9.01966274e-01, -4.83913347e-03,  1.17907055e-01,\n",
       "         3.81319046e-01,  6.57222793e-02, -3.01581532e-01,\n",
       "         8.90584365e-02, -2.69034863e-01, -8.51345584e-02,\n",
       "         1.08877886e-02, -6.66372627e-02, -3.73063087e-01,\n",
       "        -2.76447266e-01, -1.87254980e-01,  5.67507632e-02,\n",
       "         9.09779966e-02, -6.24961555e-02, -3.28687276e-03,\n",
       "        -3.08512092e-01,  3.78482223e-01,  7.62880966e-02,\n",
       "         1.43733576e-01, -1.12897493e-01,  9.59761534e-03,\n",
       "        -2.38938913e-01,  2.93743908e-02,  7.28663057e-02,\n",
       "        -2.48727947e-02, -8.16893280e-02,  6.68320432e-02,\n",
       "        -5.62225394e-02,  2.47078985e-01,  1.17681175e-01,\n",
       "         3.17581035e-02,  2.65932620e-01, -1.37706831e-01,\n",
       "        -1.50708258e-01, -1.63614675e-01, -1.51269153e-01,\n",
       "         2.34616160e-01, -9.12236273e-02, -4.22684886e-02,\n",
       "        -1.01224177e-01, -2.12229744e-01,  6.74503446e-02,\n",
       "         1.85163647e-01,  3.62982228e-02, -3.50210071e-01,\n",
       "        -5.92576079e-02, -9.54059511e-02, -9.65666175e-02,\n",
       "         3.79339904e-02, -2.36725271e-01,  2.67956525e-01,\n",
       "        -2.22367734e-01, -1.80506572e-01, -1.13724798e-01,\n",
       "         4.91059460e-02, -1.19525626e-01, -2.27335095e-03,\n",
       "        -1.81468800e-01, -4.74342071e-02,  9.61481929e-02,\n",
       "         4.93341237e-02,  2.69693173e-02,  2.66610924e-02,\n",
       "        -8.21918398e-02, -2.03230649e-01,  2.25084737e-01,\n",
       "         7.74206817e-02, -1.10149167e-01,  1.33730099e-01,\n",
       "         1.08389042e-01, -2.49691661e-02,  3.02257799e-02,\n",
       "         2.03551911e-02, -1.39646962e-01, -1.77291587e-01,\n",
       "        -1.31853789e-01,  1.65671393e-01, -4.72507323e-04,\n",
       "        -9.78293121e-02, -1.64517537e-01,  6.93127662e-02,\n",
       "        -7.20646083e-02, -1.01133175e-02, -4.18493431e-03,\n",
       "         2.48376504e-01,  7.00922966e-01,  6.45013988e-01,\n",
       "        -2.46314004e-01,  2.48779714e-01,  5.55042960e-02,\n",
       "        -1.72061652e-01,  5.44746453e-03,  2.16645315e-01,\n",
       "         1.24983951e-01, -1.32985115e-02, -9.09600873e-03,\n",
       "         8.74783769e-02, -2.72958595e-02,  5.59117980e-02,\n",
       "         2.11243659e-01,  2.08114520e-01,  1.86446942e-02,\n",
       "        -2.44881704e-01, -2.11568519e-01,  6.63717464e-02,\n",
       "        -1.52921677e-01,  9.16463733e-02, -1.56010687e-01,\n",
       "         4.47210558e-02, -1.58450484e-01, -1.72194898e-01,\n",
       "        -5.40404953e-02, -2.69618005e-01,  1.23170123e-01,\n",
       "         2.13364601e-01, -6.43658787e-02,  3.61668468e-02,\n",
       "         2.14489356e-01, -1.19912423e-01, -4.83419979e-04,\n",
       "         2.64609545e-01,  5.51236942e-02, -3.29729654e-02,\n",
       "         3.31326015e-02,  2.97882948e-02]], dtype=float32)>"
      ]
     },
     "execution_count": 7,
     "metadata": {},
     "output_type": "execute_result"
    }
   ],
   "source": [
    "# Model that generates 128-dimensional embeddings for English text\n",
    "model_url = \"https://tfhub.dev/google/nnlm-en-dim128/2\"\n",
    "model = hub.KerasLayer(model_url, trainable=False, input_shape=[], dtype=tf.string, name=\"embedding_layer\")\n",
    "\n",
    "model(imdb_reviews_df[\"text\"].to_numpy()[:1])"
   ]
  },
  {
   "cell_type": "markdown",
   "id": "793cd04b",
   "metadata": {
    "id": "793cd04b"
   },
   "source": [
    "## 3.2 Identify the target variables.\n",
    "\n",
    "- Separate the data front the target such that the dataset is in the form of (X,y) or (Features, Label)\n",
    "\n",
    "- Discretize / Encode the target variable or perform one-hot encoding on the target or any other as and if required.\n"
   ]
  },
  {
   "cell_type": "code",
   "execution_count": 8,
   "id": "c9089b57",
   "metadata": {
    "id": "c9089b57"
   },
   "outputs": [
    {
     "data": {
      "text/plain": [
       "((49582,), (49582,))"
      ]
     },
     "execution_count": 8,
     "metadata": {},
     "output_type": "execute_result"
    }
   ],
   "source": [
    "##---------Type the code below this line------------------##\n",
    "X = imdb_reviews_df[\"text\"].to_numpy()\n",
    "y = imdb_reviews_df[\"label\"].to_numpy()\n",
    "\n",
    "X.shape, y.shape"
   ]
  },
  {
   "cell_type": "markdown",
   "id": "4cd14601",
   "metadata": {},
   "source": [
    "## 3.3 Split the data into training set and testing set\n"
   ]
  },
  {
   "cell_type": "code",
   "execution_count": 9,
   "id": "1a74cd9c",
   "metadata": {},
   "outputs": [
    {
     "data": {
      "text/plain": [
       "((34707,), (7437,), (7438,))"
      ]
     },
     "execution_count": 9,
     "metadata": {},
     "output_type": "execute_result"
    }
   ],
   "source": [
    "##---------Type the code below this line------------------##\n",
    "\n",
    "# 70% of the data will be used for training, 15% for validation, and 15% for testing\n",
    "X_train, X_test, y_train, y_test = train_test_split(X, y, test_size=0.3, random_state=42)\n",
    "X_validation, X_test, y_validation, y_test = train_test_split(X_test, y_test, test_size=0.5, random_state=42)\n",
    "\n",
    "X_train.shape, X_validation.shape, X_test.shape"
   ]
  },
  {
   "cell_type": "markdown",
   "id": "e3cec4fc",
   "metadata": {
    "id": "e3cec4fc"
   },
   "source": [
    "## 3.4 Preprocessing report\n",
    "\n",
    "Mention the method adopted and justify why the method was used\n",
    "\n",
    "- to remove duplicate data, if present\n",
    "- to impute or remove missing data, if present\n",
    "- to remove data inconsistencies, if present\n",
    "- to encode categorical data\n",
    "- the normalization technique used\n",
    "\n",
    "If the any of the above are not present, then also add in the report below.\n",
    "\n",
    "Report the size of the training dataset and testing dataset\n"
   ]
  },
  {
   "cell_type": "markdown",
   "id": "71c77697",
   "metadata": {},
   "source": [
    "##---------Type the answer below this line------------------##\n",
    "\n",
    "- To remove duplicate data, we used the `drop_duplicates()` method from pandas.\n",
    "- To remove missing data, we used the `dropna()` method from pandas.\n",
    "- The data is text data, so didn't check for data inconsistencies.\n",
    "- The label was already categorical (1/0), so no encoding was needed.\n",
    "- For normalization an embedding model from tensorflow_hub will be used. (model_url = https://tfhub.dev/google/nnlm-en-dim128/2)\n",
    "- Data was split into training, validation, and testing sets using `train_test_split` from sklearn. 70% of the data was used for training, 15% for validation, and 15% for testing.\n"
   ]
  },
  {
   "cell_type": "markdown",
   "id": "3ae0b5d2",
   "metadata": {
    "id": "3ae0b5d2"
   },
   "source": [
    "# 4. Deep Neural Network Architecture - Score: Marks\n"
   ]
  },
  {
   "cell_type": "markdown",
   "id": "186bf4d7",
   "metadata": {
    "id": "186bf4d7"
   },
   "source": [
    "## 4.1 Design the architecture that you will be using\n",
    "\n",
    "- Sequential Model Building with Activation for each layer.\n",
    "- Add dense layers, specifying the number of units in each layer and the activation function used in the layer.\n",
    "- Use Relu Activation function in each hidden layer\n",
    "- Use Sigmoid / softmax Activation function in the output layer as required\n",
    "\n",
    "DO NOT USE CNN OR RNN.\n"
   ]
  },
  {
   "cell_type": "code",
   "execution_count": 10,
   "id": "868d7b27",
   "metadata": {
    "id": "868d7b27"
   },
   "outputs": [
    {
     "data": {
      "text/html": [
       "<pre style=\"white-space:pre;overflow-x:auto;line-height:normal;font-family:Menlo,'DejaVu Sans Mono',consolas,'Courier New',monospace\"><span style=\"font-weight: bold\">Model: \"sequential\"</span>\n",
       "</pre>\n"
      ],
      "text/plain": [
       "\u001b[1mModel: \"sequential\"\u001b[0m\n"
      ]
     },
     "metadata": {},
     "output_type": "display_data"
    },
    {
     "data": {
      "text/html": [
       "<pre style=\"white-space:pre;overflow-x:auto;line-height:normal;font-family:Menlo,'DejaVu Sans Mono',consolas,'Courier New',monospace\">┏━━━━━━━━━━━━━━━━━━━━━━━━━━━━━━━━━┳━━━━━━━━━━━━━━━━━━━━━━━━┳━━━━━━━━━━━━━━━┓\n",
       "┃<span style=\"font-weight: bold\"> Layer (type)                    </span>┃<span style=\"font-weight: bold\"> Output Shape           </span>┃<span style=\"font-weight: bold\">       Param # </span>┃\n",
       "┡━━━━━━━━━━━━━━━━━━━━━━━━━━━━━━━━━╇━━━━━━━━━━━━━━━━━━━━━━━━╇━━━━━━━━━━━━━━━┩\n",
       "│ lambda (<span style=\"color: #0087ff; text-decoration-color: #0087ff\">Lambda</span>)                 │ ?                      │   <span style=\"color: #00af00; text-decoration-color: #00af00\">0</span> (unbuilt) │\n",
       "├─────────────────────────────────┼────────────────────────┼───────────────┤\n",
       "│ dense (<span style=\"color: #0087ff; text-decoration-color: #0087ff\">Dense</span>)                   │ ?                      │   <span style=\"color: #00af00; text-decoration-color: #00af00\">0</span> (unbuilt) │\n",
       "├─────────────────────────────────┼────────────────────────┼───────────────┤\n",
       "│ dropout (<span style=\"color: #0087ff; text-decoration-color: #0087ff\">Dropout</span>)               │ ?                      │             <span style=\"color: #00af00; text-decoration-color: #00af00\">0</span> │\n",
       "├─────────────────────────────────┼────────────────────────┼───────────────┤\n",
       "│ dense_1 (<span style=\"color: #0087ff; text-decoration-color: #0087ff\">Dense</span>)                 │ ?                      │   <span style=\"color: #00af00; text-decoration-color: #00af00\">0</span> (unbuilt) │\n",
       "└─────────────────────────────────┴────────────────────────┴───────────────┘\n",
       "</pre>\n"
      ],
      "text/plain": [
       "┏━━━━━━━━━━━━━━━━━━━━━━━━━━━━━━━━━┳━━━━━━━━━━━━━━━━━━━━━━━━┳━━━━━━━━━━━━━━━┓\n",
       "┃\u001b[1m \u001b[0m\u001b[1mLayer (type)                   \u001b[0m\u001b[1m \u001b[0m┃\u001b[1m \u001b[0m\u001b[1mOutput Shape          \u001b[0m\u001b[1m \u001b[0m┃\u001b[1m \u001b[0m\u001b[1m      Param #\u001b[0m\u001b[1m \u001b[0m┃\n",
       "┡━━━━━━━━━━━━━━━━━━━━━━━━━━━━━━━━━╇━━━━━━━━━━━━━━━━━━━━━━━━╇━━━━━━━━━━━━━━━┩\n",
       "│ lambda (\u001b[38;5;33mLambda\u001b[0m)                 │ ?                      │   \u001b[38;5;34m0\u001b[0m (unbuilt) │\n",
       "├─────────────────────────────────┼────────────────────────┼───────────────┤\n",
       "│ dense (\u001b[38;5;33mDense\u001b[0m)                   │ ?                      │   \u001b[38;5;34m0\u001b[0m (unbuilt) │\n",
       "├─────────────────────────────────┼────────────────────────┼───────────────┤\n",
       "│ dropout (\u001b[38;5;33mDropout\u001b[0m)               │ ?                      │             \u001b[38;5;34m0\u001b[0m │\n",
       "├─────────────────────────────────┼────────────────────────┼───────────────┤\n",
       "│ dense_1 (\u001b[38;5;33mDense\u001b[0m)                 │ ?                      │   \u001b[38;5;34m0\u001b[0m (unbuilt) │\n",
       "└─────────────────────────────────┴────────────────────────┴───────────────┘\n"
      ]
     },
     "metadata": {},
     "output_type": "display_data"
    },
    {
     "data": {
      "text/html": [
       "<pre style=\"white-space:pre;overflow-x:auto;line-height:normal;font-family:Menlo,'DejaVu Sans Mono',consolas,'Courier New',monospace\"><span style=\"font-weight: bold\"> Total params: </span><span style=\"color: #00af00; text-decoration-color: #00af00\">0</span> (0.00 B)\n",
       "</pre>\n"
      ],
      "text/plain": [
       "\u001b[1m Total params: \u001b[0m\u001b[38;5;34m0\u001b[0m (0.00 B)\n"
      ]
     },
     "metadata": {},
     "output_type": "display_data"
    },
    {
     "data": {
      "text/html": [
       "<pre style=\"white-space:pre;overflow-x:auto;line-height:normal;font-family:Menlo,'DejaVu Sans Mono',consolas,'Courier New',monospace\"><span style=\"font-weight: bold\"> Trainable params: </span><span style=\"color: #00af00; text-decoration-color: #00af00\">0</span> (0.00 B)\n",
       "</pre>\n"
      ],
      "text/plain": [
       "\u001b[1m Trainable params: \u001b[0m\u001b[38;5;34m0\u001b[0m (0.00 B)\n"
      ]
     },
     "metadata": {},
     "output_type": "display_data"
    },
    {
     "data": {
      "text/html": [
       "<pre style=\"white-space:pre;overflow-x:auto;line-height:normal;font-family:Menlo,'DejaVu Sans Mono',consolas,'Courier New',monospace\"><span style=\"font-weight: bold\"> Non-trainable params: </span><span style=\"color: #00af00; text-decoration-color: #00af00\">0</span> (0.00 B)\n",
       "</pre>\n"
      ],
      "text/plain": [
       "\u001b[1m Non-trainable params: \u001b[0m\u001b[38;5;34m0\u001b[0m (0.00 B)\n"
      ]
     },
     "metadata": {},
     "output_type": "display_data"
    }
   ],
   "source": [
    "##---------Type the code below this line------------------##\n",
    "hub_layer = hub.KerasLayer(model_url, trainable=True, input_shape=[], dtype=tf.string, name=\"embedding_layer\")\n",
    "model = tf.keras.Sequential(\n",
    "    [\n",
    "        # hub layer raises an error due to backward compatibility: https://github.com/tensorflow/tensorflow/issues/63085#issuecomment-2303851416\n",
    "        # So using a lambda wrapper around the hub layer using lambda layer\n",
    "        tf.keras.layers.Lambda(lambda x: hub_layer(x)),\n",
    "        tf.keras.layers.Dense(128, activation=\"relu\", kernel_regularizer=regularizers.l2(0.01)),\n",
    "        tf.keras.layers.Dropout(0.5),\n",
    "        tf.keras.layers.Dense(1, activation=\"sigmoid\"),\n",
    "    ]\n",
    ")\n",
    "model.summary()"
   ]
  },
  {
   "cell_type": "markdown",
   "id": "575f9e37",
   "metadata": {
    "id": "575f9e37"
   },
   "source": [
    "## 4.2 DNN Report\n",
    "\n",
    "Report the following and provide justification for the same.\n",
    "\n",
    "- Number of layers\n",
    "- Number of units in each layer\n",
    "- Total number of trainable parameters\n"
   ]
  },
  {
   "cell_type": "code",
   "execution_count": null,
   "id": "6ad56d90",
   "metadata": {
    "id": "4d614311"
   },
   "outputs": [],
   "source": [
    "##---------Type the answer below this line------------------##"
   ]
  },
  {
   "cell_type": "markdown",
   "id": "bdbc82a1",
   "metadata": {
    "id": "bdbc82a1"
   },
   "source": [
    "# 5. Training the model - Score: 1 Mark\n"
   ]
  },
  {
   "cell_type": "markdown",
   "id": "ca214eb3",
   "metadata": {
    "id": "ca214eb3"
   },
   "source": [
    "## 5.1 Configure the training\n",
    "\n",
    "Configure the model for training, by using appropriate optimizers and regularizations\n",
    "\n",
    "Compile with categorical CE loss and metric accuracy.\n"
   ]
  },
  {
   "cell_type": "code",
   "execution_count": null,
   "id": "a85e9754",
   "metadata": {
    "id": "a85e9754"
   },
   "outputs": [],
   "source": [
    "##---------Type the code below this line------------------##"
   ]
  },
  {
   "cell_type": "markdown",
   "id": "32fd60d8",
   "metadata": {},
   "source": [
    "## 5.2 Train the model\n",
    "\n",
    "Train Model with cross validation, with total time taken shown for 20 epochs.\n",
    "\n",
    "Use SGD.\n"
   ]
  },
  {
   "cell_type": "code",
   "execution_count": null,
   "id": "8efaa227",
   "metadata": {},
   "outputs": [],
   "source": [
    "##---------Type the code below this line------------------##"
   ]
  },
  {
   "cell_type": "markdown",
   "id": "19bd0c56",
   "metadata": {},
   "source": [
    "Justify your choice of optimizers and regulizations used and the hyperparameters tuned\n"
   ]
  },
  {
   "cell_type": "code",
   "execution_count": null,
   "id": "b89d2981",
   "metadata": {},
   "outputs": [],
   "source": [
    "##---------Type the answers below this line------------------##"
   ]
  },
  {
   "cell_type": "markdown",
   "id": "06f1173c",
   "metadata": {
    "id": "06f1173c"
   },
   "source": [
    "# 6. Test the model - 0.5 marks\n"
   ]
  },
  {
   "cell_type": "code",
   "execution_count": null,
   "id": "7042235d",
   "metadata": {
    "id": "7042235d"
   },
   "outputs": [],
   "source": [
    "##---------Type the code below this line------------------##"
   ]
  },
  {
   "cell_type": "markdown",
   "id": "eb57940c",
   "metadata": {
    "id": "eb57940c"
   },
   "source": [
    "# 7. Intermediate result - Score: 1 mark\n",
    "\n",
    "1. Plot the training and validation accuracy history.\n",
    "2. Plot the training and validation loss history.\n",
    "3. Report the testing accuracy and loss.\n",
    "4. Show Confusion Matrix for testing dataset.\n",
    "5. Report values for preformance study metrics like accuracy, precision, recall, F1 Score.\n"
   ]
  },
  {
   "cell_type": "code",
   "execution_count": null,
   "id": "55a03506",
   "metadata": {},
   "outputs": [],
   "source": [
    "##---------Type the code below this line------------------##"
   ]
  },
  {
   "cell_type": "markdown",
   "id": "c8146c5b",
   "metadata": {},
   "source": [
    "# 8. Model architecture - Score: 1 mark\n",
    "\n",
    "Modify the architecture designed in section 4.1\n",
    "\n",
    "1. by decreasing one layer\n",
    "2. by increasing one layer\n",
    "\n",
    "For example, if the architecture in 4.1 has 5 layers, then 8.1 should have 4 layers and 8.2 should have 6 layers.\n",
    "\n",
    "Plot the comparison of the training and validation accuracy of the three architecures (4.1, 8.1 and 8.2)\n"
   ]
  },
  {
   "cell_type": "code",
   "execution_count": null,
   "id": "b15e18d9",
   "metadata": {},
   "outputs": [],
   "source": [
    "##---------Type the code below this line------------------##"
   ]
  },
  {
   "cell_type": "markdown",
   "id": "d8d38cb0",
   "metadata": {},
   "source": [
    "# 9. Regularisations - Score: 1 mark\n",
    "\n",
    "Modify the architecture designed in section 4.1\n",
    "\n",
    "1. Dropout of ratio 0.25\n",
    "2. Dropout of ratio 0.25 with L2 regulariser with factor 1e−04.\n",
    "\n",
    "Plot the comparison of the training and validation accuracy of the three (4.1, 9.1 and 9.2)\n"
   ]
  },
  {
   "cell_type": "code",
   "execution_count": null,
   "id": "7497b710",
   "metadata": {},
   "outputs": [],
   "source": [
    "##---------Type the code below this line------------------##"
   ]
  },
  {
   "cell_type": "markdown",
   "id": "6529c4a9",
   "metadata": {},
   "source": [
    "# 10. Optimisers -Score: 1 mark\n",
    "\n",
    "Modify the code written in section 5.2\n",
    "\n",
    "1. RMSProp with your choice of hyper parameters\n",
    "2. Adam with your choice of hyper parameters\n",
    "\n",
    "Plot the comparison of the training and validation accuracy of the three (5.2, 10.1 and 10.2)\n"
   ]
  },
  {
   "cell_type": "code",
   "execution_count": null,
   "id": "9bf06eb1",
   "metadata": {
    "id": "9bf06eb1"
   },
   "outputs": [],
   "source": [
    "##---------Type the code below this line------------------##"
   ]
  },
  {
   "cell_type": "markdown",
   "id": "7c7522aa",
   "metadata": {},
   "source": [
    "# 11. Conclusion - Score: 1 mark\n",
    "\n",
    "Comparing the sections 4.1, 5.2, 8, 9, and 10, present your observations on which model or architecture or regualiser or optimiser perfomed better.\n"
   ]
  },
  {
   "cell_type": "code",
   "execution_count": null,
   "id": "bc51130d",
   "metadata": {},
   "outputs": [],
   "source": [
    "##---------Type the code below this line------------------##"
   ]
  },
  {
   "cell_type": "markdown",
   "id": "RcDDQlfbZQ7E",
   "metadata": {
    "id": "RcDDQlfbZQ7E"
   },
   "source": [
    "### NOTE\n",
    "\n",
    "All Late Submissions will incur a <b>penalty of -2 marks </b>. So submit your assignments on time.\n",
    "\n",
    "Good Luck\n"
   ]
  }
 ],
 "metadata": {
  "colab": {
   "provenance": []
  },
  "kernelspec": {
   "display_name": ".venv",
   "language": "python",
   "name": "python3"
  },
  "language_info": {
   "codemirror_mode": {
    "name": "ipython",
    "version": 3
   },
   "file_extension": ".py",
   "mimetype": "text/x-python",
   "name": "python",
   "nbconvert_exporter": "python",
   "pygments_lexer": "ipython3",
   "version": "3.10.14"
  }
 },
 "nbformat": 4,
 "nbformat_minor": 5
}
